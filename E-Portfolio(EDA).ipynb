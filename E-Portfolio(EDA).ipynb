{
 "cells": [
  {
   "cell_type": "code",
   "execution_count": 2,
   "metadata": {},
   "outputs": [
    {
     "data": {
      "text/html": [
       "    <style>\n",
       "        .bk-notebook-logo {\n",
       "            display: block;\n",
       "            width: 20px;\n",
       "            height: 20px;\n",
       "            background-image: url(data:image/png;base64,iVBORw0KGgoAAAANSUhEUgAAABQAAAAUCAYAAACNiR0NAAAABHNCSVQICAgIfAhkiAAAAAlwSFlzAAALEgAACxIB0t1+/AAAABx0RVh0U29mdHdhcmUAQWRvYmUgRmlyZXdvcmtzIENTNui8sowAAAOkSURBVDiNjZRtaJVlGMd/1/08zzln5zjP1LWcU9N0NkN8m2CYjpgQYQXqSs0I84OLIC0hkEKoPtiH3gmKoiJDU7QpLgoLjLIQCpEsNJ1vqUOdO7ppbuec5+V+rj4ctwzd8IIbbi6u+8f1539dt3A78eXC7QizUF7gyV1fD1Yqg4JWz84yffhm0qkFqBogB9rM8tZdtwVsPUhWhGcFJngGeWrPzHm5oaMmkfEg1usvLFyc8jLRqDOMru7AyC8saQr7GG7f5fvDeH7Ej8CM66nIF+8yngt6HWaKh7k49Soy9nXurCi1o3qUbS3zWfrYeQDTB/Qj6kX6Ybhw4B+bOYoLKCC9H3Nu/leUTZ1JdRWkkn2ldcCamzrcf47KKXdAJllSlxAOkRgyHsGC/zRday5Qld9DyoM4/q/rUoy/CXh3jzOu3bHUVZeU+DEn8FInkPBFlu3+nW3Nw0mk6vCDiWg8CeJaxEwuHS3+z5RgY+YBR6V1Z1nxSOfoaPa4LASWxxdNp+VWTk7+4vzaou8v8PN+xo+KY2xsw6une2frhw05CTYOmQvsEhjhWjn0bmXPjpE1+kplmmkP3suftwTubK9Vq22qKmrBhpY4jvd5afdRA3wGjFAgcnTK2s4hY0/GPNIb0nErGMCRxWOOX64Z8RAC4oCXdklmEvcL8o0BfkNK4lUg9HTl+oPlQxdNo3Mg4Nv175e/1LDGzZen30MEjRUtmXSfiTVu1kK8W4txyV6BMKlbgk3lMwYCiusNy9fVfvvwMxv8Ynl6vxoByANLTWplvuj/nF9m2+PDtt1eiHPBr1oIfhCChQMBw6Aw0UulqTKZdfVvfG7VcfIqLG9bcldL/+pdWTLxLUy8Qq38heUIjh4XlzZxzQm19lLFlr8vdQ97rjZVOLf8nclzckbcD4wxXMidpX30sFd37Fv/GtwwhzhxGVAprjbg0gCAEeIgwCZyTV2Z1REEW8O4py0wsjeloKoMr6iCY6dP92H6Vw/oTyICIthibxjm/DfN9lVz8IqtqKYLUXfoKVMVQVVJOElGjrnnUt9T9wbgp8AyYKaGlqingHZU/uG2NTZSVqwHQTWkx9hxjkpWDaCg6Ckj5qebgBVbT3V3NNXMSiWSDdGV3hrtzla7J+duwPOToIg42ChPQOQjspnSlp1V+Gjdged7+8UN5CRAV7a5EdFNwCjEaBR27b3W890TE7g24NAP/mMDXRWrGoFPQI9ls/MWO2dWFAar/xcOIImbbpA3zgAAAABJRU5ErkJggg==);\n",
       "        }\n",
       "    </style>\n",
       "    <div>\n",
       "        <a href=\"https://bokeh.org\" target=\"_blank\" class=\"bk-notebook-logo\"></a>\n",
       "        <span id=\"fe31eb54-9d4d-4dca-8363-5af94b98b184\">Loading BokehJS ...</span>\n",
       "    </div>\n"
      ]
     },
     "metadata": {},
     "output_type": "display_data"
    },
    {
     "data": {
      "application/javascript": "'use strict';\n(function(root) {\n  function now() {\n    return new Date();\n  }\n\n  const force = true;\n\n  if (typeof root._bokeh_onload_callbacks === \"undefined\" || force === true) {\n    root._bokeh_onload_callbacks = [];\n    root._bokeh_is_loading = undefined;\n  }\n\nconst JS_MIME_TYPE = 'application/javascript';\n  const HTML_MIME_TYPE = 'text/html';\n  const EXEC_MIME_TYPE = 'application/vnd.bokehjs_exec.v0+json';\n  const CLASS_NAME = 'output_bokeh rendered_html';\n\n  /**\n   * Render data to the DOM node\n   */\n  function render(props, node) {\n    const script = document.createElement(\"script\");\n    node.appendChild(script);\n  }\n\n  /**\n   * Handle when an output is cleared or removed\n   */\n  function handleClearOutput(event, handle) {\n    function drop(id) {\n      const view = Bokeh.index.get_by_id(id)\n      if (view != null) {\n        view.model.document.clear()\n        Bokeh.index.delete(view)\n      }\n    }\n\n    const cell = handle.cell;\n\n    const id = cell.output_area._bokeh_element_id;\n    const server_id = cell.output_area._bokeh_server_id;\n\n    // Clean up Bokeh references\n    if (id != null) {\n      drop(id)\n    }\n\n    if (server_id !== undefined) {\n      // Clean up Bokeh references\n      const cmd_clean = \"from bokeh.io.state import curstate; print(curstate().uuid_to_server['\" + server_id + \"'].get_sessions()[0].document.roots[0]._id)\";\n      cell.notebook.kernel.execute(cmd_clean, {\n        iopub: {\n          output: function(msg) {\n            const id = msg.content.text.trim()\n            drop(id)\n          }\n        }\n      });\n      // Destroy server and session\n      const cmd_destroy = \"import bokeh.io.notebook as ion; ion.destroy_server('\" + server_id + \"')\";\n      cell.notebook.kernel.execute(cmd_destroy);\n    }\n  }\n\n  /**\n   * Handle when a new output is added\n   */\n  function handleAddOutput(event, handle) {\n    const output_area = handle.output_area;\n    const output = handle.output;\n\n    // limit handleAddOutput to display_data with EXEC_MIME_TYPE content only\n    if ((output.output_type != \"display_data\") || (!Object.prototype.hasOwnProperty.call(output.data, EXEC_MIME_TYPE))) {\n      return\n    }\n\n    const toinsert = output_area.element.find(\".\" + CLASS_NAME.split(' ')[0]);\n\n    if (output.metadata[EXEC_MIME_TYPE][\"id\"] !== undefined) {\n      toinsert[toinsert.length - 1].firstChild.textContent = output.data[JS_MIME_TYPE];\n      // store reference to embed id on output_area\n      output_area._bokeh_element_id = output.metadata[EXEC_MIME_TYPE][\"id\"];\n    }\n    if (output.metadata[EXEC_MIME_TYPE][\"server_id\"] !== undefined) {\n      const bk_div = document.createElement(\"div\");\n      bk_div.innerHTML = output.data[HTML_MIME_TYPE];\n      const script_attrs = bk_div.children[0].attributes;\n      for (let i = 0; i < script_attrs.length; i++) {\n        toinsert[toinsert.length - 1].firstChild.setAttribute(script_attrs[i].name, script_attrs[i].value);\n        toinsert[toinsert.length - 1].firstChild.textContent = bk_div.children[0].textContent\n      }\n      // store reference to server id on output_area\n      output_area._bokeh_server_id = output.metadata[EXEC_MIME_TYPE][\"server_id\"];\n    }\n  }\n\n  function register_renderer(events, OutputArea) {\n\n    function append_mime(data, metadata, element) {\n      // create a DOM node to render to\n      const toinsert = this.create_output_subarea(\n        metadata,\n        CLASS_NAME,\n        EXEC_MIME_TYPE\n      );\n      this.keyboard_manager.register_events(toinsert);\n      // Render to node\n      const props = {data: data, metadata: metadata[EXEC_MIME_TYPE]};\n      render(props, toinsert[toinsert.length - 1]);\n      element.append(toinsert);\n      return toinsert\n    }\n\n    /* Handle when an output is cleared or removed */\n    events.on('clear_output.CodeCell', handleClearOutput);\n    events.on('delete.Cell', handleClearOutput);\n\n    /* Handle when a new output is added */\n    events.on('output_added.OutputArea', handleAddOutput);\n\n    /**\n     * Register the mime type and append_mime function with output_area\n     */\n    OutputArea.prototype.register_mime_type(EXEC_MIME_TYPE, append_mime, {\n      /* Is output safe? */\n      safe: true,\n      /* Index of renderer in `output_area.display_order` */\n      index: 0\n    });\n  }\n\n  // register the mime type if in Jupyter Notebook environment and previously unregistered\n  if (root.Jupyter !== undefined) {\n    const events = require('base/js/events');\n    const OutputArea = require('notebook/js/outputarea').OutputArea;\n\n    if (OutputArea.prototype.mime_types().indexOf(EXEC_MIME_TYPE) == -1) {\n      register_renderer(events, OutputArea);\n    }\n  }\n  if (typeof (root._bokeh_timeout) === \"undefined\" || force === true) {\n    root._bokeh_timeout = Date.now() + 5000;\n    root._bokeh_failed_load = false;\n  }\n\n  const NB_LOAD_WARNING = {'data': {'text/html':\n     \"<div style='background-color: #fdd'>\\n\"+\n     \"<p>\\n\"+\n     \"BokehJS does not appear to have successfully loaded. If loading BokehJS from CDN, this \\n\"+\n     \"may be due to a slow or bad network connection. Possible fixes:\\n\"+\n     \"</p>\\n\"+\n     \"<ul>\\n\"+\n     \"<li>re-rerun `output_notebook()` to attempt to load from CDN again, or</li>\\n\"+\n     \"<li>use INLINE resources instead, as so:</li>\\n\"+\n     \"</ul>\\n\"+\n     \"<code>\\n\"+\n     \"from bokeh.resources import INLINE\\n\"+\n     \"output_notebook(resources=INLINE)\\n\"+\n     \"</code>\\n\"+\n     \"</div>\"}};\n\n  function display_loaded(error = null) {\n    const el = document.getElementById(\"fe31eb54-9d4d-4dca-8363-5af94b98b184\");\n    if (el != null) {\n      const html = (() => {\n        if (typeof root.Bokeh === \"undefined\") {\n          if (error == null) {\n            return \"BokehJS is loading ...\";\n          } else {\n            return \"BokehJS failed to load.\";\n          }\n        } else {\n          const prefix = `BokehJS ${root.Bokeh.version}`;\n          if (error == null) {\n            return `${prefix} successfully loaded.`;\n          } else {\n            return `${prefix} <b>encountered errors</b> while loading and may not function as expected.`;\n          }\n        }\n      })();\n      el.innerHTML = html;\n\n      if (error != null) {\n        const wrapper = document.createElement(\"div\");\n        wrapper.style.overflow = \"auto\";\n        wrapper.style.height = \"5em\";\n        wrapper.style.resize = \"vertical\";\n        const content = document.createElement(\"div\");\n        content.style.fontFamily = \"monospace\";\n        content.style.whiteSpace = \"pre-wrap\";\n        content.style.backgroundColor = \"rgb(255, 221, 221)\";\n        content.textContent = error.stack ?? error.toString();\n        wrapper.append(content);\n        el.append(wrapper);\n      }\n    } else if (Date.now() < root._bokeh_timeout) {\n      setTimeout(() => display_loaded(error), 100);\n    }\n  }\n\n  function run_callbacks() {\n    try {\n      root._bokeh_onload_callbacks.forEach(function(callback) {\n        if (callback != null)\n          callback();\n      });\n    } finally {\n      delete root._bokeh_onload_callbacks\n    }\n    console.debug(\"Bokeh: all callbacks have finished\");\n  }\n\n  function load_libs(css_urls, js_urls, callback) {\n    if (css_urls == null) css_urls = [];\n    if (js_urls == null) js_urls = [];\n\n    root._bokeh_onload_callbacks.push(callback);\n    if (root._bokeh_is_loading > 0) {\n      console.debug(\"Bokeh: BokehJS is being loaded, scheduling callback at\", now());\n      return null;\n    }\n    if (js_urls == null || js_urls.length === 0) {\n      run_callbacks();\n      return null;\n    }\n    console.debug(\"Bokeh: BokehJS not loaded, scheduling load and callback at\", now());\n    root._bokeh_is_loading = css_urls.length + js_urls.length;\n\n    function on_load() {\n      root._bokeh_is_loading--;\n      if (root._bokeh_is_loading === 0) {\n        console.debug(\"Bokeh: all BokehJS libraries/stylesheets loaded\");\n        run_callbacks()\n      }\n    }\n\n    function on_error(url) {\n      console.error(\"failed to load \" + url);\n    }\n\n    for (let i = 0; i < css_urls.length; i++) {\n      const url = css_urls[i];\n      const element = document.createElement(\"link\");\n      element.onload = on_load;\n      element.onerror = on_error.bind(null, url);\n      element.rel = \"stylesheet\";\n      element.type = \"text/css\";\n      element.href = url;\n      console.debug(\"Bokeh: injecting link tag for BokehJS stylesheet: \", url);\n      document.body.appendChild(element);\n    }\n\n    for (let i = 0; i < js_urls.length; i++) {\n      const url = js_urls[i];\n      const element = document.createElement('script');\n      element.onload = on_load;\n      element.onerror = on_error.bind(null, url);\n      element.async = false;\n      element.src = url;\n      console.debug(\"Bokeh: injecting script tag for BokehJS library: \", url);\n      document.head.appendChild(element);\n    }\n  };\n\n  function inject_raw_css(css) {\n    const element = document.createElement(\"style\");\n    element.appendChild(document.createTextNode(css));\n    document.body.appendChild(element);\n  }\n\n  const js_urls = [\"https://cdn.bokeh.org/bokeh/release/bokeh-3.5.1.min.js\", \"https://cdn.bokeh.org/bokeh/release/bokeh-gl-3.5.1.min.js\", \"https://cdn.bokeh.org/bokeh/release/bokeh-widgets-3.5.1.min.js\", \"https://cdn.bokeh.org/bokeh/release/bokeh-tables-3.5.1.min.js\", \"https://cdn.bokeh.org/bokeh/release/bokeh-mathjax-3.5.1.min.js\"];\n  const css_urls = [];\n\n  const inline_js = [    function(Bokeh) {\n      Bokeh.set_log_level(\"info\");\n    },\nfunction(Bokeh) {\n    }\n  ];\n\n  function run_inline_js() {\n    if (root.Bokeh !== undefined || force === true) {\n      try {\n            for (let i = 0; i < inline_js.length; i++) {\n      inline_js[i].call(root, root.Bokeh);\n    }\n\n      } catch (error) {display_loaded(error);throw error;\n      }if (force === true) {\n        display_loaded();\n      }} else if (Date.now() < root._bokeh_timeout) {\n      setTimeout(run_inline_js, 100);\n    } else if (!root._bokeh_failed_load) {\n      console.log(\"Bokeh: BokehJS failed to load within specified timeout.\");\n      root._bokeh_failed_load = true;\n    } else if (force !== true) {\n      const cell = $(document.getElementById(\"fe31eb54-9d4d-4dca-8363-5af94b98b184\")).parents('.cell').data().cell;\n      cell.output_area.append_execute_result(NB_LOAD_WARNING)\n    }\n  }\n\n  if (root._bokeh_is_loading === 0) {\n    console.debug(\"Bokeh: BokehJS loaded, going straight to plotting\");\n    run_inline_js();\n  } else {\n    load_libs(css_urls, js_urls, function() {\n      console.debug(\"Bokeh: BokehJS plotting callback run at\", now());\n      run_inline_js();\n    });\n  }\n}(window));",
      "application/vnd.bokehjs_load.v0+json": ""
     },
     "metadata": {},
     "output_type": "display_data"
    }
   ],
   "source": [
    "import pandas as pd\n",
    "import numpy as np\n",
    "import matplotlib.pyplot as plt\n",
    "from matplotlib.ticker import StrMethodFormatter\n",
    "import seaborn as sns \n",
    "from scipy import stats\n",
    "import statsmodels.api as sm\n",
    "from bokeh.io import output_notebook\n",
    "output_notebook()\n",
    "from bokeh.plotting import figure\n",
    "from bokeh.io import show\n"
   ]
  },
  {
   "cell_type": "code",
   "execution_count": 4,
   "metadata": {},
   "outputs": [
    {
     "data": {
      "text/html": [
       "<div>\n",
       "<style scoped>\n",
       "    .dataframe tbody tr th:only-of-type {\n",
       "        vertical-align: middle;\n",
       "    }\n",
       "\n",
       "    .dataframe tbody tr th {\n",
       "        vertical-align: top;\n",
       "    }\n",
       "\n",
       "    .dataframe thead th {\n",
       "        text-align: right;\n",
       "    }\n",
       "</style>\n",
       "<table border=\"1\" class=\"dataframe\">\n",
       "  <thead>\n",
       "    <tr style=\"text-align: right;\">\n",
       "      <th></th>\n",
       "      <th>Sr no</th>\n",
       "      <th>married</th>\n",
       "      <th>race</th>\n",
       "      <th>loan_decision</th>\n",
       "      <th>occupancy</th>\n",
       "      <th>loan_amount</th>\n",
       "      <th>applicant_income</th>\n",
       "      <th>num_units</th>\n",
       "      <th>num_dependants</th>\n",
       "      <th>self_employed</th>\n",
       "      <th>monthly_income</th>\n",
       "      <th>purchase_price</th>\n",
       "      <th>liquid_assets</th>\n",
       "      <th>mortage_payment_history</th>\n",
       "      <th>consumer_credit_history</th>\n",
       "      <th>filed_bankruptcy</th>\n",
       "      <th>property_type</th>\n",
       "      <th>gender</th>\n",
       "    </tr>\n",
       "  </thead>\n",
       "  <tbody>\n",
       "    <tr>\n",
       "      <th>0</th>\n",
       "      <td>1</td>\n",
       "      <td>True</td>\n",
       "      <td>white</td>\n",
       "      <td>reject</td>\n",
       "      <td>1</td>\n",
       "      <td>128</td>\n",
       "      <td>74</td>\n",
       "      <td>1.0</td>\n",
       "      <td>1.0</td>\n",
       "      <td>False</td>\n",
       "      <td>4583</td>\n",
       "      <td>160.0</td>\n",
       "      <td>52.0</td>\n",
       "      <td>2</td>\n",
       "      <td>2</td>\n",
       "      <td>False</td>\n",
       "      <td>2</td>\n",
       "      <td>male</td>\n",
       "    </tr>\n",
       "    <tr>\n",
       "      <th>1</th>\n",
       "      <td>2</td>\n",
       "      <td>False</td>\n",
       "      <td>white</td>\n",
       "      <td>approve</td>\n",
       "      <td>1</td>\n",
       "      <td>128</td>\n",
       "      <td>84</td>\n",
       "      <td>1.0</td>\n",
       "      <td>0.0</td>\n",
       "      <td>False</td>\n",
       "      <td>2666</td>\n",
       "      <td>143.0</td>\n",
       "      <td>37.0</td>\n",
       "      <td>2</td>\n",
       "      <td>2</td>\n",
       "      <td>False</td>\n",
       "      <td>2</td>\n",
       "      <td>male</td>\n",
       "    </tr>\n",
       "    <tr>\n",
       "      <th>2</th>\n",
       "      <td>3</td>\n",
       "      <td>True</td>\n",
       "      <td>white</td>\n",
       "      <td>approve</td>\n",
       "      <td>1</td>\n",
       "      <td>66</td>\n",
       "      <td>36</td>\n",
       "      <td>1.0</td>\n",
       "      <td>0.0</td>\n",
       "      <td>True</td>\n",
       "      <td>3000</td>\n",
       "      <td>110.0</td>\n",
       "      <td>19.0</td>\n",
       "      <td>2</td>\n",
       "      <td>6</td>\n",
       "      <td>True</td>\n",
       "      <td>2</td>\n",
       "      <td>male</td>\n",
       "    </tr>\n",
       "    <tr>\n",
       "      <th>3</th>\n",
       "      <td>4</td>\n",
       "      <td>True</td>\n",
       "      <td>white</td>\n",
       "      <td>approve</td>\n",
       "      <td>1</td>\n",
       "      <td>120</td>\n",
       "      <td>59</td>\n",
       "      <td>1.0</td>\n",
       "      <td>0.0</td>\n",
       "      <td>False</td>\n",
       "      <td>2583</td>\n",
       "      <td>134.0</td>\n",
       "      <td>31.0</td>\n",
       "      <td>2</td>\n",
       "      <td>1</td>\n",
       "      <td>False</td>\n",
       "      <td>1</td>\n",
       "      <td>male</td>\n",
       "    </tr>\n",
       "    <tr>\n",
       "      <th>4</th>\n",
       "      <td>5</td>\n",
       "      <td>False</td>\n",
       "      <td>white</td>\n",
       "      <td>approve</td>\n",
       "      <td>1</td>\n",
       "      <td>111</td>\n",
       "      <td>63</td>\n",
       "      <td>1.0</td>\n",
       "      <td>0.0</td>\n",
       "      <td>False</td>\n",
       "      <td>2208</td>\n",
       "      <td>138.0</td>\n",
       "      <td>169.0</td>\n",
       "      <td>2</td>\n",
       "      <td>6</td>\n",
       "      <td>False</td>\n",
       "      <td>2</td>\n",
       "      <td>male</td>\n",
       "    </tr>\n",
       "    <tr>\n",
       "      <th>...</th>\n",
       "      <td>...</td>\n",
       "      <td>...</td>\n",
       "      <td>...</td>\n",
       "      <td>...</td>\n",
       "      <td>...</td>\n",
       "      <td>...</td>\n",
       "      <td>...</td>\n",
       "      <td>...</td>\n",
       "      <td>...</td>\n",
       "      <td>...</td>\n",
       "      <td>...</td>\n",
       "      <td>...</td>\n",
       "      <td>...</td>\n",
       "      <td>...</td>\n",
       "      <td>...</td>\n",
       "      <td>...</td>\n",
       "      <td>...</td>\n",
       "      <td>...</td>\n",
       "    </tr>\n",
       "    <tr>\n",
       "      <th>1983</th>\n",
       "      <td>1984</td>\n",
       "      <td>True</td>\n",
       "      <td>white</td>\n",
       "      <td>approve</td>\n",
       "      <td>1</td>\n",
       "      <td>158</td>\n",
       "      <td>96</td>\n",
       "      <td>1.0</td>\n",
       "      <td>0.0</td>\n",
       "      <td>False</td>\n",
       "      <td>5000</td>\n",
       "      <td>176.0</td>\n",
       "      <td>15.0</td>\n",
       "      <td>2</td>\n",
       "      <td>1</td>\n",
       "      <td>False</td>\n",
       "      <td>2</td>\n",
       "      <td>male</td>\n",
       "    </tr>\n",
       "    <tr>\n",
       "      <th>1984</th>\n",
       "      <td>1985</td>\n",
       "      <td>True</td>\n",
       "      <td>white</td>\n",
       "      <td>approve</td>\n",
       "      <td>1</td>\n",
       "      <td>35</td>\n",
       "      <td>169</td>\n",
       "      <td>1.0</td>\n",
       "      <td>0.0</td>\n",
       "      <td>False</td>\n",
       "      <td>9583</td>\n",
       "      <td>315.0</td>\n",
       "      <td>64.0</td>\n",
       "      <td>1</td>\n",
       "      <td>1</td>\n",
       "      <td>False</td>\n",
       "      <td>1</td>\n",
       "      <td>male</td>\n",
       "    </tr>\n",
       "    <tr>\n",
       "      <th>1985</th>\n",
       "      <td>1986</td>\n",
       "      <td>True</td>\n",
       "      <td>white</td>\n",
       "      <td>approve</td>\n",
       "      <td>2</td>\n",
       "      <td>225</td>\n",
       "      <td>49</td>\n",
       "      <td>2.0</td>\n",
       "      <td>0.0</td>\n",
       "      <td>True</td>\n",
       "      <td>4159</td>\n",
       "      <td>225.0</td>\n",
       "      <td>10.0</td>\n",
       "      <td>2</td>\n",
       "      <td>1</td>\n",
       "      <td>False</td>\n",
       "      <td>3</td>\n",
       "      <td>male</td>\n",
       "    </tr>\n",
       "    <tr>\n",
       "      <th>1986</th>\n",
       "      <td>1987</td>\n",
       "      <td>False</td>\n",
       "      <td>white</td>\n",
       "      <td>approve</td>\n",
       "      <td>1</td>\n",
       "      <td>98</td>\n",
       "      <td>110</td>\n",
       "      <td>1.0</td>\n",
       "      <td>0.0</td>\n",
       "      <td>True</td>\n",
       "      <td>9200</td>\n",
       "      <td>215.0</td>\n",
       "      <td>427.9</td>\n",
       "      <td>1</td>\n",
       "      <td>1</td>\n",
       "      <td>False</td>\n",
       "      <td>1</td>\n",
       "      <td>male</td>\n",
       "    </tr>\n",
       "    <tr>\n",
       "      <th>1987</th>\n",
       "      <td>1988</td>\n",
       "      <td>False</td>\n",
       "      <td>black</td>\n",
       "      <td>reject</td>\n",
       "      <td>1</td>\n",
       "      <td>133</td>\n",
       "      <td>55</td>\n",
       "      <td>1.0</td>\n",
       "      <td>0.0</td>\n",
       "      <td>True</td>\n",
       "      <td>4583</td>\n",
       "      <td>148.0</td>\n",
       "      <td>24.5</td>\n",
       "      <td>2</td>\n",
       "      <td>3</td>\n",
       "      <td>False</td>\n",
       "      <td>2</td>\n",
       "      <td>female</td>\n",
       "    </tr>\n",
       "  </tbody>\n",
       "</table>\n",
       "<p>1988 rows × 18 columns</p>\n",
       "</div>"
      ],
      "text/plain": [
       "      Sr no married   race loan_decision  occupancy  loan_amount  \\\n",
       "0         1    True  white        reject          1          128   \n",
       "1         2   False  white       approve          1          128   \n",
       "2         3    True  white       approve          1           66   \n",
       "3         4    True  white       approve          1          120   \n",
       "4         5   False  white       approve          1          111   \n",
       "...     ...     ...    ...           ...        ...          ...   \n",
       "1983   1984    True  white       approve          1          158   \n",
       "1984   1985    True  white       approve          1           35   \n",
       "1985   1986    True  white       approve          2          225   \n",
       "1986   1987   False  white       approve          1           98   \n",
       "1987   1988   False  black        reject          1          133   \n",
       "\n",
       "      applicant_income  num_units  num_dependants  self_employed  \\\n",
       "0                   74        1.0             1.0          False   \n",
       "1                   84        1.0             0.0          False   \n",
       "2                   36        1.0             0.0           True   \n",
       "3                   59        1.0             0.0          False   \n",
       "4                   63        1.0             0.0          False   \n",
       "...                ...        ...             ...            ...   \n",
       "1983                96        1.0             0.0          False   \n",
       "1984               169        1.0             0.0          False   \n",
       "1985                49        2.0             0.0           True   \n",
       "1986               110        1.0             0.0           True   \n",
       "1987                55        1.0             0.0           True   \n",
       "\n",
       "      monthly_income  purchase_price  liquid_assets  mortage_payment_history  \\\n",
       "0               4583           160.0           52.0                        2   \n",
       "1               2666           143.0           37.0                        2   \n",
       "2               3000           110.0           19.0                        2   \n",
       "3               2583           134.0           31.0                        2   \n",
       "4               2208           138.0          169.0                        2   \n",
       "...              ...             ...            ...                      ...   \n",
       "1983            5000           176.0           15.0                        2   \n",
       "1984            9583           315.0           64.0                        1   \n",
       "1985            4159           225.0           10.0                        2   \n",
       "1986            9200           215.0          427.9                        1   \n",
       "1987            4583           148.0           24.5                        2   \n",
       "\n",
       "      consumer_credit_history  filed_bankruptcy  property_type  gender  \n",
       "0                           2             False              2    male  \n",
       "1                           2             False              2    male  \n",
       "2                           6              True              2    male  \n",
       "3                           1             False              1    male  \n",
       "4                           6             False              2    male  \n",
       "...                       ...               ...            ...     ...  \n",
       "1983                        1             False              2    male  \n",
       "1984                        1             False              1    male  \n",
       "1985                        1             False              3    male  \n",
       "1986                        1             False              1    male  \n",
       "1987                        3             False              2  female  \n",
       "\n",
       "[1988 rows x 18 columns]"
      ]
     },
     "execution_count": 4,
     "metadata": {},
     "output_type": "execute_result"
    }
   ],
   "source": [
    "df = pd.read_csv('loanapp.csv')\n",
    "df"
   ]
  },
  {
   "cell_type": "markdown",
   "metadata": {},
   "source": [
    "Loan applications: loanapp.csv . The dataset contains data on loan applications to a bank, including various types of information on the applicant and the purpose of the loan, along with the eventual loan decision (approve or reject - see the column loan_decision)."
   ]
  },
  {
   "cell_type": "code",
   "execution_count": 5,
   "metadata": {},
   "outputs": [
    {
     "data": {
      "text/html": [
       "<div>\n",
       "<style scoped>\n",
       "    .dataframe tbody tr th:only-of-type {\n",
       "        vertical-align: middle;\n",
       "    }\n",
       "\n",
       "    .dataframe tbody tr th {\n",
       "        vertical-align: top;\n",
       "    }\n",
       "\n",
       "    .dataframe thead th {\n",
       "        text-align: right;\n",
       "    }\n",
       "</style>\n",
       "<table border=\"1\" class=\"dataframe\">\n",
       "  <thead>\n",
       "    <tr style=\"text-align: right;\">\n",
       "      <th></th>\n",
       "      <th>Sr no</th>\n",
       "      <th>occupancy</th>\n",
       "      <th>loan_amount</th>\n",
       "      <th>applicant_income</th>\n",
       "      <th>num_units</th>\n",
       "      <th>num_dependants</th>\n",
       "      <th>monthly_income</th>\n",
       "      <th>purchase_price</th>\n",
       "      <th>liquid_assets</th>\n",
       "      <th>mortage_payment_history</th>\n",
       "      <th>consumer_credit_history</th>\n",
       "      <th>property_type</th>\n",
       "    </tr>\n",
       "  </thead>\n",
       "  <tbody>\n",
       "    <tr>\n",
       "      <th>count</th>\n",
       "      <td>1988.000000</td>\n",
       "      <td>1988.000000</td>\n",
       "      <td>1988.000000</td>\n",
       "      <td>1988.000000</td>\n",
       "      <td>1984.000000</td>\n",
       "      <td>1985.000000</td>\n",
       "      <td>1988.000000</td>\n",
       "      <td>1988.000000</td>\n",
       "      <td>1988.000000</td>\n",
       "      <td>1988.000000</td>\n",
       "      <td>1988.000000</td>\n",
       "      <td>1988.000000</td>\n",
       "    </tr>\n",
       "    <tr>\n",
       "      <th>mean</th>\n",
       "      <td>994.500000</td>\n",
       "      <td>1.031690</td>\n",
       "      <td>143.272636</td>\n",
       "      <td>84.684105</td>\n",
       "      <td>1.122480</td>\n",
       "      <td>0.771285</td>\n",
       "      <td>5195.220825</td>\n",
       "      <td>196.304088</td>\n",
       "      <td>4620.333873</td>\n",
       "      <td>1.708249</td>\n",
       "      <td>2.110161</td>\n",
       "      <td>1.861167</td>\n",
       "    </tr>\n",
       "    <tr>\n",
       "      <th>std</th>\n",
       "      <td>574.030487</td>\n",
       "      <td>0.191678</td>\n",
       "      <td>80.531470</td>\n",
       "      <td>87.079777</td>\n",
       "      <td>0.437315</td>\n",
       "      <td>1.104464</td>\n",
       "      <td>5270.360946</td>\n",
       "      <td>128.136030</td>\n",
       "      <td>67142.936043</td>\n",
       "      <td>0.555335</td>\n",
       "      <td>1.663256</td>\n",
       "      <td>0.535448</td>\n",
       "    </tr>\n",
       "    <tr>\n",
       "      <th>min</th>\n",
       "      <td>1.000000</td>\n",
       "      <td>1.000000</td>\n",
       "      <td>2.000000</td>\n",
       "      <td>0.000000</td>\n",
       "      <td>1.000000</td>\n",
       "      <td>0.000000</td>\n",
       "      <td>0.000000</td>\n",
       "      <td>25.000000</td>\n",
       "      <td>0.000000</td>\n",
       "      <td>1.000000</td>\n",
       "      <td>1.000000</td>\n",
       "      <td>1.000000</td>\n",
       "    </tr>\n",
       "    <tr>\n",
       "      <th>25%</th>\n",
       "      <td>497.750000</td>\n",
       "      <td>1.000000</td>\n",
       "      <td>100.000000</td>\n",
       "      <td>48.000000</td>\n",
       "      <td>1.000000</td>\n",
       "      <td>0.000000</td>\n",
       "      <td>2875.750000</td>\n",
       "      <td>129.000000</td>\n",
       "      <td>20.000000</td>\n",
       "      <td>1.000000</td>\n",
       "      <td>1.000000</td>\n",
       "      <td>2.000000</td>\n",
       "    </tr>\n",
       "    <tr>\n",
       "      <th>50%</th>\n",
       "      <td>994.500000</td>\n",
       "      <td>1.000000</td>\n",
       "      <td>126.000000</td>\n",
       "      <td>64.000000</td>\n",
       "      <td>1.000000</td>\n",
       "      <td>0.000000</td>\n",
       "      <td>3812.500000</td>\n",
       "      <td>163.000000</td>\n",
       "      <td>38.000000</td>\n",
       "      <td>2.000000</td>\n",
       "      <td>1.000000</td>\n",
       "      <td>2.000000</td>\n",
       "    </tr>\n",
       "    <tr>\n",
       "      <th>75%</th>\n",
       "      <td>1491.250000</td>\n",
       "      <td>1.000000</td>\n",
       "      <td>165.000000</td>\n",
       "      <td>88.000000</td>\n",
       "      <td>1.000000</td>\n",
       "      <td>1.000000</td>\n",
       "      <td>5594.500000</td>\n",
       "      <td>225.000000</td>\n",
       "      <td>83.000000</td>\n",
       "      <td>2.000000</td>\n",
       "      <td>2.000000</td>\n",
       "      <td>2.000000</td>\n",
       "    </tr>\n",
       "    <tr>\n",
       "      <th>max</th>\n",
       "      <td>1988.000000</td>\n",
       "      <td>3.000000</td>\n",
       "      <td>980.000000</td>\n",
       "      <td>972.000000</td>\n",
       "      <td>4.000000</td>\n",
       "      <td>8.000000</td>\n",
       "      <td>81000.000000</td>\n",
       "      <td>1535.000000</td>\n",
       "      <td>1000000.000000</td>\n",
       "      <td>4.000000</td>\n",
       "      <td>6.000000</td>\n",
       "      <td>3.000000</td>\n",
       "    </tr>\n",
       "  </tbody>\n",
       "</table>\n",
       "</div>"
      ],
      "text/plain": [
       "             Sr no    occupancy  loan_amount  applicant_income    num_units  \\\n",
       "count  1988.000000  1988.000000  1988.000000       1988.000000  1984.000000   \n",
       "mean    994.500000     1.031690   143.272636         84.684105     1.122480   \n",
       "std     574.030487     0.191678    80.531470         87.079777     0.437315   \n",
       "min       1.000000     1.000000     2.000000          0.000000     1.000000   \n",
       "25%     497.750000     1.000000   100.000000         48.000000     1.000000   \n",
       "50%     994.500000     1.000000   126.000000         64.000000     1.000000   \n",
       "75%    1491.250000     1.000000   165.000000         88.000000     1.000000   \n",
       "max    1988.000000     3.000000   980.000000        972.000000     4.000000   \n",
       "\n",
       "       num_dependants  monthly_income  purchase_price   liquid_assets  \\\n",
       "count     1985.000000     1988.000000     1988.000000     1988.000000   \n",
       "mean         0.771285     5195.220825      196.304088     4620.333873   \n",
       "std          1.104464     5270.360946      128.136030    67142.936043   \n",
       "min          0.000000        0.000000       25.000000        0.000000   \n",
       "25%          0.000000     2875.750000      129.000000       20.000000   \n",
       "50%          0.000000     3812.500000      163.000000       38.000000   \n",
       "75%          1.000000     5594.500000      225.000000       83.000000   \n",
       "max          8.000000    81000.000000     1535.000000  1000000.000000   \n",
       "\n",
       "       mortage_payment_history  consumer_credit_history  property_type  \n",
       "count              1988.000000              1988.000000    1988.000000  \n",
       "mean                  1.708249                 2.110161       1.861167  \n",
       "std                   0.555335                 1.663256       0.535448  \n",
       "min                   1.000000                 1.000000       1.000000  \n",
       "25%                   1.000000                 1.000000       2.000000  \n",
       "50%                   2.000000                 1.000000       2.000000  \n",
       "75%                   2.000000                 2.000000       2.000000  \n",
       "max                   4.000000                 6.000000       3.000000  "
      ]
     },
     "execution_count": 5,
     "metadata": {},
     "output_type": "execute_result"
    }
   ],
   "source": [
    "# Descriptive statistics of the dataframe\n",
    "df.describe()"
   ]
  },
  {
   "cell_type": "markdown",
   "metadata": {},
   "source": [
    "The basic descriptive statistics of each column is shown in the table . The mean loan amount of all applicants is 143.3. Whereas the mean amount of applicants is only 980 the minimum loan amount is 2."
   ]
  },
  {
   "cell_type": "code",
   "execution_count": 7,
   "metadata": {},
   "outputs": [
    {
     "name": "stdout",
     "output_type": "stream",
     "text": [
      "<class 'pandas.core.frame.DataFrame'>\n",
      "RangeIndex: 1988 entries, 0 to 1987\n",
      "Data columns (total 18 columns):\n",
      " #   Column                   Non-Null Count  Dtype  \n",
      "---  ------                   --------------  -----  \n",
      " 0   Sr no                    1988 non-null   int64  \n",
      " 1   married                  1985 non-null   object \n",
      " 2   race                     1988 non-null   object \n",
      " 3   loan_decision            1988 non-null   object \n",
      " 4   occupancy                1988 non-null   int64  \n",
      " 5   loan_amount              1988 non-null   int64  \n",
      " 6   applicant_income         1988 non-null   int64  \n",
      " 7   num_units                1984 non-null   float64\n",
      " 8   num_dependants           1985 non-null   float64\n",
      " 9   self_employed            1988 non-null   bool   \n",
      " 10  monthly_income           1988 non-null   int64  \n",
      " 11  purchase_price           1988 non-null   float64\n",
      " 12  liquid_assets            1988 non-null   float64\n",
      " 13  mortage_payment_history  1988 non-null   int64  \n",
      " 14  consumer_credit_history  1988 non-null   int64  \n",
      " 15  filed_bankruptcy         1988 non-null   bool   \n",
      " 16  property_type            1988 non-null   int64  \n",
      " 17  gender                   1974 non-null   object \n",
      "dtypes: bool(2), float64(4), int64(8), object(4)\n",
      "memory usage: 252.5+ KB\n"
     ]
    }
   ],
   "source": [
    "# Basic information\n",
    "df.info()"
   ]
  },
  {
   "cell_type": "markdown",
   "metadata": {},
   "source": [
    "## 3. Build a graph visualizing (some of) the numerical variables of the dataset"
   ]
  },
  {
   "cell_type": "code",
   "execution_count": 9,
   "metadata": {},
   "outputs": [
    {
     "data": {
      "text/plain": [
       "<AxesSubplot: xlabel='loan_amount', ylabel='applicant_income'>"
      ]
     },
     "execution_count": 9,
     "metadata": {},
     "output_type": "execute_result"
    },
    {
     "data": {
      "image/png": "[encoded data removed]",
      "text/plain": [
       "<Figure size 640x480 with 1 Axes>"
      ]
     },
     "metadata": {},
     "output_type": "display_data"
    }
   ],
   "source": [
    "#Plot the numerical variables 'loan_amount' and 'applicant_income'\n",
    "df.plot(kind=\"scatter\", x=\"loan_amount\", y=\"applicant_income\")"
   ]
  },
  {
   "cell_type": "markdown",
   "metadata": {},
   "source": [
    "The plot is plotted between loan amount and applicant income in order to visualise the relation between the applicants income and the amount of loan they are seeking"
   ]
  },
  {
   "cell_type": "markdown",
   "metadata": {},
   "source": [
    "# 4. Check if any records in the data have any missing values; handle the missing data as appropriate (interpolate missing values, delete records with missing values etc)."
   ]
  },
  {
   "cell_type": "code",
   "execution_count": 10,
   "metadata": {},
   "outputs": [
    {
     "name": "stdout",
     "output_type": "stream",
     "text": [
      "0        True\n",
      "1       False\n",
      "2        True\n",
      "3        True\n",
      "4       False\n",
      "        ...  \n",
      "1983     True\n",
      "1984     True\n",
      "1985     True\n",
      "1986    False\n",
      "1987    False\n",
      "Name: married, Length: 1988, dtype: object\n",
      "0       False\n",
      "1       False\n",
      "2       False\n",
      "3       False\n",
      "4       False\n",
      "        ...  \n",
      "1983    False\n",
      "1984    False\n",
      "1985    False\n",
      "1986    False\n",
      "1987    False\n",
      "Name: married, Length: 1988, dtype: bool\n"
     ]
    }
   ],
   "source": [
    "# Print if there are any empty cells in 'married' column\n",
    "print (df['married'])\n",
    "print(df['married'].isnull())"
   ]
  },
  {
   "cell_type": "code",
   "execution_count": 11,
   "metadata": {},
   "outputs": [
    {
     "name": "stdout",
     "output_type": "stream",
     "text": [
      "0       1.0\n",
      "1       0.0\n",
      "2       0.0\n",
      "3       0.0\n",
      "4       0.0\n",
      "       ... \n",
      "1983    0.0\n",
      "1984    0.0\n",
      "1985    0.0\n",
      "1986    0.0\n",
      "1987    0.0\n",
      "Name: num_dependants, Length: 1988, dtype: float64\n",
      "0       False\n",
      "1       False\n",
      "2       False\n",
      "3       False\n",
      "4       False\n",
      "        ...  \n",
      "1983    False\n",
      "1984    False\n",
      "1985    False\n",
      "1986    False\n",
      "1987    False\n",
      "Name: num_dependants, Length: 1988, dtype: bool\n"
     ]
    }
   ],
   "source": [
    "# Print if there are any empty cells in 'num_dependants' column\n",
    "print(df['num_dependants'])\n",
    "print(df['num_dependants'].isnull())"
   ]
  },
  {
   "cell_type": "code",
   "execution_count": 12,
   "metadata": {},
   "outputs": [
    {
     "name": "stdout",
     "output_type": "stream",
     "text": [
      "0         male\n",
      "1         male\n",
      "2         male\n",
      "3         male\n",
      "4         male\n",
      "         ...  \n",
      "1983      male\n",
      "1984      male\n",
      "1985      male\n",
      "1986      male\n",
      "1987    female\n",
      "Name: gender, Length: 1988, dtype: object\n",
      "0       False\n",
      "1       False\n",
      "2       False\n",
      "3       False\n",
      "4       False\n",
      "        ...  \n",
      "1983    False\n",
      "1984    False\n",
      "1985    False\n",
      "1986    False\n",
      "1987    False\n",
      "Name: gender, Length: 1988, dtype: bool\n"
     ]
    }
   ],
   "source": [
    "# Print if there are any empty cells in 'gender' column\n",
    "print(df['gender'])\n",
    "print(df['gender'].isnull())"
   ]
  },
  {
   "cell_type": "code",
   "execution_count": 13,
   "metadata": {},
   "outputs": [
    {
     "name": "stdout",
     "output_type": "stream",
     "text": [
      "Sr no                       0\n",
      "married                     3\n",
      "race                        0\n",
      "loan_decision               0\n",
      "occupancy                   0\n",
      "loan_amount                 0\n",
      "applicant_income            0\n",
      "num_units                   4\n",
      "num_dependants              3\n",
      "self_employed               0\n",
      "monthly_income              0\n",
      "purchase_price              0\n",
      "liquid_assets               0\n",
      "mortage_payment_history     0\n",
      "consumer_credit_history     0\n",
      "filed_bankruptcy            0\n",
      "property_type               0\n",
      "gender                     14\n",
      "dtype: int64\n"
     ]
    }
   ],
   "source": [
    "#Total missing values for each features\n",
    "print(df.isnull().sum())"
   ]
  },
  {
   "cell_type": "markdown",
   "metadata": {},
   "source": [
    "The missing values can be found either by checking each column or by just searching for the number of null values in the whole Dataframe. This shows that marital status of 3 applicants , number of units of 4 applicants, number of dependents of 3 applications and gender of 14 applicants are missing."
   ]
  },
  {
   "cell_type": "code",
   "execution_count": 14,
   "metadata": {},
   "outputs": [
    {
     "data": {
      "text/html": [
       "<div>\n",
       "<style scoped>\n",
       "    .dataframe tbody tr th:only-of-type {\n",
       "        vertical-align: middle;\n",
       "    }\n",
       "\n",
       "    .dataframe tbody tr th {\n",
       "        vertical-align: top;\n",
       "    }\n",
       "\n",
       "    .dataframe thead th {\n",
       "        text-align: right;\n",
       "    }\n",
       "</style>\n",
       "<table border=\"1\" class=\"dataframe\">\n",
       "  <thead>\n",
       "    <tr style=\"text-align: right;\">\n",
       "      <th></th>\n",
       "      <th>Sr no</th>\n",
       "      <th>married</th>\n",
       "      <th>race</th>\n",
       "      <th>loan_decision</th>\n",
       "      <th>occupancy</th>\n",
       "      <th>loan_amount</th>\n",
       "      <th>applicant_income</th>\n",
       "      <th>num_units</th>\n",
       "      <th>num_dependants</th>\n",
       "      <th>self_employed</th>\n",
       "      <th>monthly_income</th>\n",
       "      <th>purchase_price</th>\n",
       "      <th>liquid_assets</th>\n",
       "      <th>mortage_payment_history</th>\n",
       "      <th>consumer_credit_history</th>\n",
       "      <th>filed_bankruptcy</th>\n",
       "      <th>property_type</th>\n",
       "      <th>gender</th>\n",
       "    </tr>\n",
       "  </thead>\n",
       "  <tbody>\n",
       "    <tr>\n",
       "      <th>0</th>\n",
       "      <td>1</td>\n",
       "      <td>True</td>\n",
       "      <td>white</td>\n",
       "      <td>reject</td>\n",
       "      <td>1</td>\n",
       "      <td>128</td>\n",
       "      <td>74</td>\n",
       "      <td>1.0</td>\n",
       "      <td>1.0</td>\n",
       "      <td>False</td>\n",
       "      <td>4583</td>\n",
       "      <td>160.0</td>\n",
       "      <td>52.0</td>\n",
       "      <td>2</td>\n",
       "      <td>2</td>\n",
       "      <td>False</td>\n",
       "      <td>2</td>\n",
       "      <td>male</td>\n",
       "    </tr>\n",
       "    <tr>\n",
       "      <th>1</th>\n",
       "      <td>2</td>\n",
       "      <td>False</td>\n",
       "      <td>white</td>\n",
       "      <td>approve</td>\n",
       "      <td>1</td>\n",
       "      <td>128</td>\n",
       "      <td>84</td>\n",
       "      <td>1.0</td>\n",
       "      <td>0.0</td>\n",
       "      <td>False</td>\n",
       "      <td>2666</td>\n",
       "      <td>143.0</td>\n",
       "      <td>37.0</td>\n",
       "      <td>2</td>\n",
       "      <td>2</td>\n",
       "      <td>False</td>\n",
       "      <td>2</td>\n",
       "      <td>male</td>\n",
       "    </tr>\n",
       "    <tr>\n",
       "      <th>2</th>\n",
       "      <td>3</td>\n",
       "      <td>True</td>\n",
       "      <td>white</td>\n",
       "      <td>approve</td>\n",
       "      <td>1</td>\n",
       "      <td>66</td>\n",
       "      <td>36</td>\n",
       "      <td>1.0</td>\n",
       "      <td>0.0</td>\n",
       "      <td>True</td>\n",
       "      <td>3000</td>\n",
       "      <td>110.0</td>\n",
       "      <td>19.0</td>\n",
       "      <td>2</td>\n",
       "      <td>6</td>\n",
       "      <td>True</td>\n",
       "      <td>2</td>\n",
       "      <td>male</td>\n",
       "    </tr>\n",
       "    <tr>\n",
       "      <th>3</th>\n",
       "      <td>4</td>\n",
       "      <td>True</td>\n",
       "      <td>white</td>\n",
       "      <td>approve</td>\n",
       "      <td>1</td>\n",
       "      <td>120</td>\n",
       "      <td>59</td>\n",
       "      <td>1.0</td>\n",
       "      <td>0.0</td>\n",
       "      <td>False</td>\n",
       "      <td>2583</td>\n",
       "      <td>134.0</td>\n",
       "      <td>31.0</td>\n",
       "      <td>2</td>\n",
       "      <td>1</td>\n",
       "      <td>False</td>\n",
       "      <td>1</td>\n",
       "      <td>male</td>\n",
       "    </tr>\n",
       "    <tr>\n",
       "      <th>4</th>\n",
       "      <td>5</td>\n",
       "      <td>False</td>\n",
       "      <td>white</td>\n",
       "      <td>approve</td>\n",
       "      <td>1</td>\n",
       "      <td>111</td>\n",
       "      <td>63</td>\n",
       "      <td>1.0</td>\n",
       "      <td>0.0</td>\n",
       "      <td>False</td>\n",
       "      <td>2208</td>\n",
       "      <td>138.0</td>\n",
       "      <td>169.0</td>\n",
       "      <td>2</td>\n",
       "      <td>6</td>\n",
       "      <td>False</td>\n",
       "      <td>2</td>\n",
       "      <td>male</td>\n",
       "    </tr>\n",
       "    <tr>\n",
       "      <th>...</th>\n",
       "      <td>...</td>\n",
       "      <td>...</td>\n",
       "      <td>...</td>\n",
       "      <td>...</td>\n",
       "      <td>...</td>\n",
       "      <td>...</td>\n",
       "      <td>...</td>\n",
       "      <td>...</td>\n",
       "      <td>...</td>\n",
       "      <td>...</td>\n",
       "      <td>...</td>\n",
       "      <td>...</td>\n",
       "      <td>...</td>\n",
       "      <td>...</td>\n",
       "      <td>...</td>\n",
       "      <td>...</td>\n",
       "      <td>...</td>\n",
       "      <td>...</td>\n",
       "    </tr>\n",
       "    <tr>\n",
       "      <th>1983</th>\n",
       "      <td>1984</td>\n",
       "      <td>True</td>\n",
       "      <td>white</td>\n",
       "      <td>approve</td>\n",
       "      <td>1</td>\n",
       "      <td>158</td>\n",
       "      <td>96</td>\n",
       "      <td>1.0</td>\n",
       "      <td>0.0</td>\n",
       "      <td>False</td>\n",
       "      <td>5000</td>\n",
       "      <td>176.0</td>\n",
       "      <td>15.0</td>\n",
       "      <td>2</td>\n",
       "      <td>1</td>\n",
       "      <td>False</td>\n",
       "      <td>2</td>\n",
       "      <td>male</td>\n",
       "    </tr>\n",
       "    <tr>\n",
       "      <th>1984</th>\n",
       "      <td>1985</td>\n",
       "      <td>True</td>\n",
       "      <td>white</td>\n",
       "      <td>approve</td>\n",
       "      <td>1</td>\n",
       "      <td>35</td>\n",
       "      <td>169</td>\n",
       "      <td>1.0</td>\n",
       "      <td>0.0</td>\n",
       "      <td>False</td>\n",
       "      <td>9583</td>\n",
       "      <td>315.0</td>\n",
       "      <td>64.0</td>\n",
       "      <td>1</td>\n",
       "      <td>1</td>\n",
       "      <td>False</td>\n",
       "      <td>1</td>\n",
       "      <td>male</td>\n",
       "    </tr>\n",
       "    <tr>\n",
       "      <th>1985</th>\n",
       "      <td>1986</td>\n",
       "      <td>True</td>\n",
       "      <td>white</td>\n",
       "      <td>approve</td>\n",
       "      <td>2</td>\n",
       "      <td>225</td>\n",
       "      <td>49</td>\n",
       "      <td>2.0</td>\n",
       "      <td>0.0</td>\n",
       "      <td>True</td>\n",
       "      <td>4159</td>\n",
       "      <td>225.0</td>\n",
       "      <td>10.0</td>\n",
       "      <td>2</td>\n",
       "      <td>1</td>\n",
       "      <td>False</td>\n",
       "      <td>3</td>\n",
       "      <td>male</td>\n",
       "    </tr>\n",
       "    <tr>\n",
       "      <th>1986</th>\n",
       "      <td>1987</td>\n",
       "      <td>False</td>\n",
       "      <td>white</td>\n",
       "      <td>approve</td>\n",
       "      <td>1</td>\n",
       "      <td>98</td>\n",
       "      <td>110</td>\n",
       "      <td>1.0</td>\n",
       "      <td>0.0</td>\n",
       "      <td>True</td>\n",
       "      <td>9200</td>\n",
       "      <td>215.0</td>\n",
       "      <td>427.9</td>\n",
       "      <td>1</td>\n",
       "      <td>1</td>\n",
       "      <td>False</td>\n",
       "      <td>1</td>\n",
       "      <td>male</td>\n",
       "    </tr>\n",
       "    <tr>\n",
       "      <th>1987</th>\n",
       "      <td>1988</td>\n",
       "      <td>False</td>\n",
       "      <td>black</td>\n",
       "      <td>reject</td>\n",
       "      <td>1</td>\n",
       "      <td>133</td>\n",
       "      <td>55</td>\n",
       "      <td>1.0</td>\n",
       "      <td>0.0</td>\n",
       "      <td>True</td>\n",
       "      <td>4583</td>\n",
       "      <td>148.0</td>\n",
       "      <td>24.5</td>\n",
       "      <td>2</td>\n",
       "      <td>3</td>\n",
       "      <td>False</td>\n",
       "      <td>2</td>\n",
       "      <td>female</td>\n",
       "    </tr>\n",
       "  </tbody>\n",
       "</table>\n",
       "<p>1969 rows × 18 columns</p>\n",
       "</div>"
      ],
      "text/plain": [
       "      Sr no married   race loan_decision  occupancy  loan_amount  \\\n",
       "0         1    True  white        reject          1          128   \n",
       "1         2   False  white       approve          1          128   \n",
       "2         3    True  white       approve          1           66   \n",
       "3         4    True  white       approve          1          120   \n",
       "4         5   False  white       approve          1          111   \n",
       "...     ...     ...    ...           ...        ...          ...   \n",
       "1983   1984    True  white       approve          1          158   \n",
       "1984   1985    True  white       approve          1           35   \n",
       "1985   1986    True  white       approve          2          225   \n",
       "1986   1987   False  white       approve          1           98   \n",
       "1987   1988   False  black        reject          1          133   \n",
       "\n",
       "      applicant_income  num_units  num_dependants  self_employed  \\\n",
       "0                   74        1.0             1.0          False   \n",
       "1                   84        1.0             0.0          False   \n",
       "2                   36        1.0             0.0           True   \n",
       "3                   59        1.0             0.0          False   \n",
       "4                   63        1.0             0.0          False   \n",
       "...                ...        ...             ...            ...   \n",
       "1983                96        1.0             0.0          False   \n",
       "1984               169        1.0             0.0          False   \n",
       "1985                49        2.0             0.0           True   \n",
       "1986               110        1.0             0.0           True   \n",
       "1987                55        1.0             0.0           True   \n",
       "\n",
       "      monthly_income  purchase_price  liquid_assets  mortage_payment_history  \\\n",
       "0               4583           160.0           52.0                        2   \n",
       "1               2666           143.0           37.0                        2   \n",
       "2               3000           110.0           19.0                        2   \n",
       "3               2583           134.0           31.0                        2   \n",
       "4               2208           138.0          169.0                        2   \n",
       "...              ...             ...            ...                      ...   \n",
       "1983            5000           176.0           15.0                        2   \n",
       "1984            9583           315.0           64.0                        1   \n",
       "1985            4159           225.0           10.0                        2   \n",
       "1986            9200           215.0          427.9                        1   \n",
       "1987            4583           148.0           24.5                        2   \n",
       "\n",
       "      consumer_credit_history  filed_bankruptcy  property_type  gender  \n",
       "0                           2             False              2    male  \n",
       "1                           2             False              2    male  \n",
       "2                           6              True              2    male  \n",
       "3                           1             False              1    male  \n",
       "4                           6             False              2    male  \n",
       "...                       ...               ...            ...     ...  \n",
       "1983                        1             False              2    male  \n",
       "1984                        1             False              1    male  \n",
       "1985                        1             False              3    male  \n",
       "1986                        1             False              1    male  \n",
       "1987                        3             False              2  female  \n",
       "\n",
       "[1969 rows x 18 columns]"
      ]
     },
     "execution_count": 14,
     "metadata": {},
     "output_type": "execute_result"
    }
   ],
   "source": [
    "# Dataframe rows with missing values\n",
    "df.dropna(inplace=True, axis=\"rows\")\n",
    "df"
   ]
  },
  {
   "cell_type": "markdown",
   "metadata": {},
   "source": [
    "The values can be replaced with \"NA\" with replace function or interpolated with the values nearby the missing values. But here the rows with missing values have been deleted since the change in categorical variables would affect the analysis in the later part of the report . After deleting the rows with missing values 1969 out of 1988 rows are remaining."
   ]
  },
  {
   "cell_type": "markdown",
   "metadata": {},
   "source": [
    "## 5. Display the distribution of(some of) numerical variables as histograms . Provide verbal comments on the graph"
   ]
  },
  {
   "cell_type": "code",
   "execution_count": 15,
   "metadata": {},
   "outputs": [
    {
     "data": {
      "image/png": "[encoded data removed]",
      "text/plain": [
       "<Figure size 500x500 with 1 Axes>"
      ]
     },
     "metadata": {},
     "output_type": "display_data"
    }
   ],
   "source": [
    "sns.displot(df['loan_amount'], kde=True)\n",
    "plt.title('Distribution of loan_amount')\n",
    "plt.xlabel('loan_amount')\n",
    "plt.ylabel('Frequency')\n",
    "plt.show()"
   ]
  },
  {
   "cell_type": "markdown",
   "metadata": {},
   "source": [
    "The above histogram shows the distribution of loan amount of the applicants."
   ]
  },
  {
   "cell_type": "code",
   "execution_count": 16,
   "metadata": {},
   "outputs": [
    {
     "data": {
      "image/png": "[encoded data removed]",
      "text/plain": [
       "<Figure size 500x500 with 1 Axes>"
      ]
     },
     "metadata": {},
     "output_type": "display_data"
    }
   ],
   "source": [
    "# Histogram for Applicant income of the applicant\n",
    "\n",
    "sns.displot(df['applicant_income'], kde=True)\n",
    "plt.title('Distribution of applicant_income')\n",
    "plt.xlabel('applicant_income')\n",
    "plt.ylabel('Frequency')\n",
    "plt.show()"
   ]
  },
  {
   "cell_type": "markdown",
   "metadata": {},
   "source": [
    "The above histogram shows the distribution of the income of the applicants."
   ]
  },
  {
   "cell_type": "code",
   "execution_count": 17,
   "metadata": {},
   "outputs": [
    {
     "data": {
      "image/png": "[encoded data removed]",
      "text/plain": [
       "<Figure size 500x500 with 1 Axes>"
      ]
     },
     "metadata": {},
     "output_type": "display_data"
    }
   ],
   "source": [
    "#Histogram for monthly income of the applicant\n",
    "sns.displot(df['monthly_income'],kde=True)\n",
    "plt.title('Distibution of monthly_income')\n",
    "plt.xlabel('monthly_income')\n",
    "plt.ylabel('Frequency')\n",
    "plt.show()"
   ]
  },
  {
   "cell_type": "markdown",
   "metadata": {},
   "source": [
    "The above histogram shows the distribution of the monthly income of the applicants."
   ]
  },
  {
   "cell_type": "markdown",
   "metadata": {},
   "source": [
    "## 6. Display unique values of a categorical variable"
   ]
  },
  {
   "cell_type": "code",
   "execution_count": 18,
   "metadata": {},
   "outputs": [
    {
     "data": {
      "text/plain": [
       "array(['white', 'black', 'hispan'], dtype=object)"
      ]
     },
     "execution_count": 18,
     "metadata": {},
     "output_type": "execute_result"
    }
   ],
   "source": [
    "# Find all the unique values in a race column(Unique races)\n",
    "df.race.unique()"
   ]
  },
  {
   "cell_type": "markdown",
   "metadata": {},
   "source": [
    "White, Black and Hispan are the different types of races of the applicants."
   ]
  },
  {
   "cell_type": "code",
   "execution_count": 19,
   "metadata": {},
   "outputs": [
    {
     "data": {
      "text/plain": [
       "array([128,  66, 120, 111, 141, 276, 100, 267, 175,  95, 158, 110,  40,\n",
       "        70, 168, 114, 349, 185, 126, 125, 130, 109, 200,  17, 208, 187,\n",
       "        76, 121, 133, 140, 115, 252, 104, 315, 116, 632, 112,  78, 151,\n",
       "       152,  59, 147,  80, 280, 310, 345,  90, 191, 123, 122,  68, 134,\n",
       "        72, 138, 248,  99,   2, 132, 162, 150,  94,  35,  50, 180, 732,\n",
       "       201, 183, 170, 166,  74, 124, 106, 131, 320, 192, 101, 155, 300,\n",
       "       235,  65, 144, 135, 184, 149, 450,  47,  48, 160,  75,  28, 350,\n",
       "        85,  91,  96,  88,  44,  56, 182,  86, 129, 105, 137, 290, 199,\n",
       "       148, 237,  53,  49, 275,  57, 230,  83,  26, 108, 286,  55,  97,\n",
       "       287, 164, 145, 176, 165, 304, 136, 258, 156,  84, 312, 190, 172,\n",
       "        82,  93,  81, 113, 118,  60, 167,  98, 265, 264,  87, 210,  71,\n",
       "       146,  30,  25,  89,  92, 188, 203, 240, 189, 102, 297, 281, 107,\n",
       "       278, 225, 400, 139, 216, 232, 127,  79, 490, 154, 186, 224, 159,\n",
       "       163, 259, 360, 153, 322, 194, 207, 257, 370, 650,  77, 119, 390,\n",
       "       242, 500, 256, 250, 215,  62,  61, 214, 244, 600, 143, 480, 255,\n",
       "       103, 352, 171,  63, 700, 157, 495, 221, 213,  51,  67,  73, 260,\n",
       "        58, 117, 181, 268, 299, 142,  42, 425, 220, 550, 219, 330, 272,\n",
       "       177, 279, 284, 209, 436,  54, 274, 980, 313, 285, 396, 169, 212,\n",
       "        69,  43, 289, 348, 173, 336, 239, 376, 204, 412, 179, 161,  46,\n",
       "        45, 228, 308,  64, 270, 288, 236, 570, 380, 296, 338, 231, 198,\n",
       "       426, 218, 178, 226, 206, 405, 750, 234, 227,  27,  34, 223, 373,\n",
       "       246, 460, 800, 243, 311,  29, 196, 324, 211,   9, 262, 205,  36,\n",
       "       254, 484, 197, 292,  41,  20, 496, 253], dtype=int64)"
      ]
     },
     "execution_count": 19,
     "metadata": {},
     "output_type": "execute_result"
    }
   ],
   "source": [
    "#Find all the unique values in the loan amount column\n",
    "df.loan_amount.unique()"
   ]
  },
  {
   "cell_type": "markdown",
   "metadata": {},
   "source": [
    "The above list are of the unique loan amounts of the applicants in $1000s."
   ]
  },
  {
   "cell_type": "markdown",
   "metadata": {},
   "source": [
    "## 7. Build a consistency table of two potentially related categorical variables. Conduct a statistical test of the independence between the variables. Provide verbal comments on the output."
   ]
  },
  {
   "cell_type": "markdown",
   "metadata": {},
   "source": [
    "The contingency table represents the observed frequencies of co-occurrences of different categorical variables."
   ]
  },
  {
   "cell_type": "code",
   "execution_count": 21,
   "metadata": {},
   "outputs": [
    {
     "data": {
      "text/html": [
       "<div>\n",
       "<style scoped>\n",
       "    .dataframe tbody tr th:only-of-type {\n",
       "        vertical-align: middle;\n",
       "    }\n",
       "\n",
       "    .dataframe tbody tr th {\n",
       "        vertical-align: top;\n",
       "    }\n",
       "\n",
       "    .dataframe thead th {\n",
       "        text-align: right;\n",
       "    }\n",
       "</style>\n",
       "<table border=\"1\" class=\"dataframe\">\n",
       "  <thead>\n",
       "    <tr style=\"text-align: right;\">\n",
       "      <th>loan_decision</th>\n",
       "      <th>approve</th>\n",
       "      <th>reject</th>\n",
       "    </tr>\n",
       "    <tr>\n",
       "      <th>race</th>\n",
       "      <th></th>\n",
       "      <th></th>\n",
       "    </tr>\n",
       "  </thead>\n",
       "  <tbody>\n",
       "    <tr>\n",
       "      <th>black</th>\n",
       "      <td>131</td>\n",
       "      <td>64</td>\n",
       "    </tr>\n",
       "    <tr>\n",
       "      <th>hispan</th>\n",
       "      <td>82</td>\n",
       "      <td>26</td>\n",
       "    </tr>\n",
       "    <tr>\n",
       "      <th>white</th>\n",
       "      <td>1514</td>\n",
       "      <td>152</td>\n",
       "    </tr>\n",
       "  </tbody>\n",
       "</table>\n",
       "</div>"
      ],
      "text/plain": [
       "loan_decision  approve  reject\n",
       "race                          \n",
       "black              131      64\n",
       "hispan              82      26\n",
       "white             1514     152"
      ]
     },
     "execution_count": 21,
     "metadata": {},
     "output_type": "execute_result"
    }
   ],
   "source": [
    "# Contingency Table for the categorical variables 'race' and 'loan_decision'\n",
    "cont_table1 = pd.crosstab(df['race'],df['loan_decision'])\n",
    "cont_table1"
   ]
  },
  {
   "cell_type": "code",
   "execution_count": 22,
   "metadata": {},
   "outputs": [
    {
     "data": {
      "text/plain": [
       "<AxesSubplot: xlabel='race'>"
      ]
     },
     "execution_count": 22,
     "metadata": {},
     "output_type": "execute_result"
    },
    {
     "data": {
      "image/png": "[encoded data removed]",
      "text/plain": [
       "<Figure size 640x480 with 1 Axes>"
      ]
     },
     "metadata": {},
     "output_type": "display_data"
    }
   ],
   "source": [
    "# Plot Contingency Table 1\n",
    "cont_table1.plot(kind=\"bar\", stacked=True, rot=0)"
   ]
  },
  {
   "cell_type": "markdown",
   "metadata": {},
   "source": [
    "The Contingency table 1 show how often different values of the categorical variables 'race' and 'loan_decision' occur. It Shows that 1514 white, 82 hispan, 131 black applicants have been approved with their loans. Whereas 152 white, 26 hispan, 64 black applicants have been rejected with their applications."
   ]
  },
  {
   "cell_type": "code",
   "execution_count": 23,
   "metadata": {},
   "outputs": [
    {
     "data": {
      "text/html": [
       "<div>\n",
       "<style scoped>\n",
       "    .dataframe tbody tr th:only-of-type {\n",
       "        vertical-align: middle;\n",
       "    }\n",
       "\n",
       "    .dataframe tbody tr th {\n",
       "        vertical-align: top;\n",
       "    }\n",
       "\n",
       "    .dataframe thead th {\n",
       "        text-align: right;\n",
       "    }\n",
       "</style>\n",
       "<table border=\"1\" class=\"dataframe\">\n",
       "  <thead>\n",
       "    <tr style=\"text-align: right;\">\n",
       "      <th>loan_decision</th>\n",
       "      <th>approve</th>\n",
       "      <th>reject</th>\n",
       "    </tr>\n",
       "    <tr>\n",
       "      <th>gender</th>\n",
       "      <th></th>\n",
       "      <th></th>\n",
       "    </tr>\n",
       "  </thead>\n",
       "  <tbody>\n",
       "    <tr>\n",
       "      <th>female</th>\n",
       "      <td>318</td>\n",
       "      <td>50</td>\n",
       "    </tr>\n",
       "    <tr>\n",
       "      <th>male</th>\n",
       "      <td>1409</td>\n",
       "      <td>192</td>\n",
       "    </tr>\n",
       "  </tbody>\n",
       "</table>\n",
       "</div>"
      ],
      "text/plain": [
       "loan_decision  approve  reject\n",
       "gender                        \n",
       "female             318      50\n",
       "male              1409     192"
      ]
     },
     "execution_count": 23,
     "metadata": {},
     "output_type": "execute_result"
    }
   ],
   "source": [
    "# Contingency table for the categorical variables 'gender' and 'loan_decision'\n",
    "cont_table2 = pd.crosstab(df['gender'], df['loan_decision'])\n",
    "cont_table2"
   ]
  },
  {
   "cell_type": "code",
   "execution_count": 24,
   "metadata": {},
   "outputs": [
    {
     "data": {
      "text/plain": [
       "<AxesSubplot: xlabel='gender'>"
      ]
     },
     "execution_count": 24,
     "metadata": {},
     "output_type": "execute_result"
    },
    {
     "data": {
      "image/png": "[encoded data removed]",
      "text/plain": [
       "<Figure size 640x480 with 1 Axes>"
      ]
     },
     "metadata": {},
     "output_type": "display_data"
    }
   ],
   "source": [
    "# Plot Contingency table 2\n",
    "cont_table2.plot(kind=\"bar\", stacked=True, rot=0)"
   ]
  },
  {
   "cell_type": "markdown",
   "metadata": {},
   "source": [
    "The contingency table 2 show how often different values of the categorical variables 'gender' and 'loan_decision' cooccur. It shows that 1409 male and 318 female applicant have been approved with their loans Whereas 192 male and 50 female applicants have been rejected with their applications."
   ]
  },
  {
   "cell_type": "code",
   "execution_count": 26,
   "metadata": {},
   "outputs": [
    {
     "data": {
      "text/html": [
       "<div>\n",
       "<style scoped>\n",
       "    .dataframe tbody tr th:only-of-type {\n",
       "        vertical-align: middle;\n",
       "    }\n",
       "\n",
       "    .dataframe tbody tr th {\n",
       "        vertical-align: top;\n",
       "    }\n",
       "\n",
       "    .dataframe thead th {\n",
       "        text-align: right;\n",
       "    }\n",
       "</style>\n",
       "<table border=\"1\" class=\"dataframe\">\n",
       "  <thead>\n",
       "    <tr style=\"text-align: right;\">\n",
       "      <th>loan_decision</th>\n",
       "      <th>approve</th>\n",
       "      <th>reject</th>\n",
       "    </tr>\n",
       "    <tr>\n",
       "      <th>self_employed</th>\n",
       "      <th></th>\n",
       "      <th></th>\n",
       "    </tr>\n",
       "  </thead>\n",
       "  <tbody>\n",
       "    <tr>\n",
       "      <th>False</th>\n",
       "      <td>1510</td>\n",
       "      <td>202</td>\n",
       "    </tr>\n",
       "    <tr>\n",
       "      <th>True</th>\n",
       "      <td>217</td>\n",
       "      <td>40</td>\n",
       "    </tr>\n",
       "  </tbody>\n",
       "</table>\n",
       "</div>"
      ],
      "text/plain": [
       "loan_decision  approve  reject\n",
       "self_employed                 \n",
       "False             1510     202\n",
       "True               217      40"
      ]
     },
     "execution_count": 26,
     "metadata": {},
     "output_type": "execute_result"
    }
   ],
   "source": [
    "# Contingency table for the categorical variables 'self-employed and 'loan'\n",
    "cont_table3=pd.crosstab(df['self_employed'],df['loan_decision'])\n",
    "cont_table3"
   ]
  },
  {
   "cell_type": "code",
   "execution_count": 27,
   "metadata": {},
   "outputs": [
    {
     "data": {
      "text/plain": [
       "<AxesSubplot: xlabel='self_employed'>"
      ]
     },
     "execution_count": 27,
     "metadata": {},
     "output_type": "execute_result"
    },
    {
     "data": {
      "image/png": "[encoded data removed]",
      "text/plain": [
       "<Figure size 640x480 with 1 Axes>"
      ]
     },
     "metadata": {},
     "output_type": "display_data"
    }
   ],
   "source": [
    "#Plot contingency table 3\n",
    "cont_table3.plot(kind=\"bar\", stacked=True, rot=0)"
   ]
  },
  {
   "cell_type": "markdown",
   "metadata": {},
   "source": [
    "The contingency table 3 show hoe often different value of the categorical variables 'self_employed' and 'loan_decision' co-occur. It shows that 217 self-employed and 1510 not self-employed applicants have been approved with their loans. Whereas 40 self-employed and 202 non self-employed applicants have been rejected with their applications."
   ]
  },
  {
   "cell_type": "code",
   "execution_count": 28,
   "metadata": {},
   "outputs": [
    {
     "data": {
      "text/html": [
       "<div>\n",
       "<style scoped>\n",
       "    .dataframe tbody tr th:only-of-type {\n",
       "        vertical-align: middle;\n",
       "    }\n",
       "\n",
       "    .dataframe tbody tr th {\n",
       "        vertical-align: top;\n",
       "    }\n",
       "\n",
       "    .dataframe thead th {\n",
       "        text-align: right;\n",
       "    }\n",
       "</style>\n",
       "<table border=\"1\" class=\"dataframe\">\n",
       "  <thead>\n",
       "    <tr style=\"text-align: right;\">\n",
       "      <th>loan_decision</th>\n",
       "      <th>approve</th>\n",
       "      <th>reject</th>\n",
       "    </tr>\n",
       "    <tr>\n",
       "      <th>married</th>\n",
       "      <th></th>\n",
       "      <th></th>\n",
       "    </tr>\n",
       "  </thead>\n",
       "  <tbody>\n",
       "    <tr>\n",
       "      <th>False</th>\n",
       "      <td>569</td>\n",
       "      <td>102</td>\n",
       "    </tr>\n",
       "    <tr>\n",
       "      <th>True</th>\n",
       "      <td>1158</td>\n",
       "      <td>140</td>\n",
       "    </tr>\n",
       "  </tbody>\n",
       "</table>\n",
       "</div>"
      ],
      "text/plain": [
       "loan_decision  approve  reject\n",
       "married                       \n",
       "False              569     102\n",
       "True              1158     140"
      ]
     },
     "execution_count": 28,
     "metadata": {},
     "output_type": "execute_result"
    }
   ],
   "source": [
    "# Contingency table for the categorical variables 'married' and 'loan_decision'\n",
    "cont_table4 = pd.crosstab(df['married'],df['loan_decision'])\n",
    "cont_table4\n"
   ]
  },
  {
   "cell_type": "code",
   "execution_count": 29,
   "metadata": {},
   "outputs": [
    {
     "data": {
      "text/plain": [
       "<AxesSubplot: xlabel='married'>"
      ]
     },
     "execution_count": 29,
     "metadata": {},
     "output_type": "execute_result"
    },
    {
     "data": {
      "image/png": "[encoded data removed]",
      "text/plain": [
       "<Figure size 640x480 with 1 Axes>"
      ]
     },
     "metadata": {},
     "output_type": "display_data"
    }
   ],
   "source": [
    "#Plot contingency 4\n",
    "cont_table4.plot(kind=\"bar\", stacked=True, rot=0)"
   ]
  },
  {
   "cell_type": "markdown",
   "metadata": {},
   "source": [
    "The Contingency table 4 show how often different values of the categorical variables 'married' and 'loan_decision' co-occur. It shows that 1158 married and 569 unmarried applicants have been approved with their loans . Whereas 140 married and 102 unmarried applicants have been rejected with their applications."
   ]
  },
  {
   "cell_type": "code",
   "execution_count": 30,
   "metadata": {},
   "outputs": [
    {
     "name": "stdout",
     "output_type": "stream",
     "text": [
      "p-value: 1.1422552252120337e-23\n"
     ]
    }
   ],
   "source": [
    "# Run chi2 test on Contingency table 1\n",
    "chi2, p_val, dof, expected = stats.chi2_contingency(cont_table1)\n",
    "print(f\"p-value: {p_val}\")"
   ]
  },
  {
   "cell_type": "markdown",
   "metadata": {},
   "source": [
    "The p-value is less than the usual significance level of 0.05. Therefore, we need to reject the null hypothesis that there is no dependence between the race and loan decision. Therefore the loan of applicants is approved or rejected based on theor race."
   ]
  },
  {
   "cell_type": "code",
   "execution_count": 31,
   "metadata": {},
   "outputs": [
    {
     "name": "stdout",
     "output_type": "stream",
     "text": [
      "p-value:0.45204922056492614\n"
     ]
    }
   ],
   "source": [
    "# Run chi2 test on contingency table 2\n",
    "chi2, p_val, dof, expected = stats.chi2_contingency(cont_table2)\n",
    "print(f\"p-value:{p_val}\")"
   ]
  },
  {
   "cell_type": "markdown",
   "metadata": {},
   "source": [
    "The p-value is greater than the usual significance level of 0.05. Therefore, we do not need to reject the null hypothesis that there is no dependence between the gender and loan decision. Therefore the loans of applicants is not approved or rejected based on their gender."
   ]
  },
  {
   "cell_type": "code",
   "execution_count": 32,
   "metadata": {},
   "outputs": [
    {
     "name": "stdout",
     "output_type": "stream",
     "text": [
      "p-value: 0.10688538967672206\n"
     ]
    }
   ],
   "source": [
    "# Run chi2 test on Contingency Table 3\n",
    "chi2, p_val, dof, expected = stats.chi2_contingency(cont_table3)\n",
    "print(f\"p-value: {p_val}\")"
   ]
  },
  {
   "cell_type": "markdown",
   "metadata": {},
   "source": [
    "The p-value is greater than the usual significance level of 0.05. Therefore, we do not need to reject the null hypothesis that there is no dependence between the employment status and loan decision. Therefore the loans of applicants is not approved or rejected based on their employment status, if they are self employed or not."
   ]
  },
  {
   "cell_type": "code",
   "execution_count": 33,
   "metadata": {},
   "outputs": [
    {
     "name": "stdout",
     "output_type": "stream",
     "text": [
      "p-value: 0.0058521778331842664\n"
     ]
    }
   ],
   "source": [
    "# Run chi2 test on Contingency Table 4\n",
    "chi2, p_val, dof, expected = stats.chi2_contingency(cont_table4)\n",
    "print(f\"p-value: {p_val}\")"
   ]
  },
  {
   "cell_type": "markdown",
   "metadata": {},
   "source": [
    "The p-value is less than the usual significance level of 0.05. Therefore, we need to reject the null hypothesis that there is no dependence between the marital status and loan decision. Therefore the loans of applicants is approved or rejected based on their marital status, if they are married or not."
   ]
  },
  {
   "cell_type": "markdown",
   "metadata": {},
   "source": [
    "## 8. Retrieve a subset of the data based on two or more criteria and present descriptive statistics on the subset. Provide verbal comments on the output."
   ]
  },
  {
   "cell_type": "code",
   "execution_count": 34,
   "metadata": {},
   "outputs": [
    {
     "data": {
      "text/html": [
       "<div>\n",
       "<style scoped>\n",
       "    .dataframe tbody tr th:only-of-type {\n",
       "        vertical-align: middle;\n",
       "    }\n",
       "\n",
       "    .dataframe tbody tr th {\n",
       "        vertical-align: top;\n",
       "    }\n",
       "\n",
       "    .dataframe thead th {\n",
       "        text-align: right;\n",
       "    }\n",
       "</style>\n",
       "<table border=\"1\" class=\"dataframe\">\n",
       "  <thead>\n",
       "    <tr style=\"text-align: right;\">\n",
       "      <th></th>\n",
       "      <th>gender</th>\n",
       "      <th>loan_amount</th>\n",
       "      <th>applicant_income</th>\n",
       "      <th>loan_decision</th>\n",
       "    </tr>\n",
       "  </thead>\n",
       "  <tbody>\n",
       "    <tr>\n",
       "      <th>0</th>\n",
       "      <td>male</td>\n",
       "      <td>128</td>\n",
       "      <td>74</td>\n",
       "      <td>reject</td>\n",
       "    </tr>\n",
       "    <tr>\n",
       "      <th>1</th>\n",
       "      <td>male</td>\n",
       "      <td>128</td>\n",
       "      <td>84</td>\n",
       "      <td>approve</td>\n",
       "    </tr>\n",
       "    <tr>\n",
       "      <th>2</th>\n",
       "      <td>male</td>\n",
       "      <td>66</td>\n",
       "      <td>36</td>\n",
       "      <td>approve</td>\n",
       "    </tr>\n",
       "    <tr>\n",
       "      <th>3</th>\n",
       "      <td>male</td>\n",
       "      <td>120</td>\n",
       "      <td>59</td>\n",
       "      <td>approve</td>\n",
       "    </tr>\n",
       "    <tr>\n",
       "      <th>4</th>\n",
       "      <td>male</td>\n",
       "      <td>111</td>\n",
       "      <td>63</td>\n",
       "      <td>approve</td>\n",
       "    </tr>\n",
       "    <tr>\n",
       "      <th>...</th>\n",
       "      <td>...</td>\n",
       "      <td>...</td>\n",
       "      <td>...</td>\n",
       "      <td>...</td>\n",
       "    </tr>\n",
       "    <tr>\n",
       "      <th>1983</th>\n",
       "      <td>male</td>\n",
       "      <td>158</td>\n",
       "      <td>96</td>\n",
       "      <td>approve</td>\n",
       "    </tr>\n",
       "    <tr>\n",
       "      <th>1984</th>\n",
       "      <td>male</td>\n",
       "      <td>35</td>\n",
       "      <td>169</td>\n",
       "      <td>approve</td>\n",
       "    </tr>\n",
       "    <tr>\n",
       "      <th>1985</th>\n",
       "      <td>male</td>\n",
       "      <td>225</td>\n",
       "      <td>49</td>\n",
       "      <td>approve</td>\n",
       "    </tr>\n",
       "    <tr>\n",
       "      <th>1986</th>\n",
       "      <td>male</td>\n",
       "      <td>98</td>\n",
       "      <td>110</td>\n",
       "      <td>approve</td>\n",
       "    </tr>\n",
       "    <tr>\n",
       "      <th>1987</th>\n",
       "      <td>female</td>\n",
       "      <td>133</td>\n",
       "      <td>55</td>\n",
       "      <td>reject</td>\n",
       "    </tr>\n",
       "  </tbody>\n",
       "</table>\n",
       "<p>1969 rows × 4 columns</p>\n",
       "</div>"
      ],
      "text/plain": [
       "      gender  loan_amount  applicant_income loan_decision\n",
       "0       male          128                74        reject\n",
       "1       male          128                84       approve\n",
       "2       male           66                36       approve\n",
       "3       male          120                59       approve\n",
       "4       male          111                63       approve\n",
       "...      ...          ...               ...           ...\n",
       "1983    male          158                96       approve\n",
       "1984    male           35               169       approve\n",
       "1985    male          225                49       approve\n",
       "1986    male           98               110       approve\n",
       "1987  female          133                55        reject\n",
       "\n",
       "[1969 rows x 4 columns]"
      ]
     },
     "execution_count": 34,
     "metadata": {},
     "output_type": "execute_result"
    }
   ],
   "source": [
    "# Retrieve a subset containing 'gender', 'loan-amount', 'applicant_income' and 'loan_decision'\n",
    "subset = df[['gender','loan_amount','applicant_income','loan_decision']]\n",
    "subset "
   ]
  },
  {
   "cell_type": "markdown",
   "metadata": {},
   "source": [
    "A subset containing the gender, loan amount, applicant income and loan decision of the applicants has been created"
   ]
  },
  {
   "cell_type": "code",
   "execution_count": 35,
   "metadata": {},
   "outputs": [
    {
     "data": {
      "text/html": [
       "<div>\n",
       "<style scoped>\n",
       "    .dataframe tbody tr th:only-of-type {\n",
       "        vertical-align: middle;\n",
       "    }\n",
       "\n",
       "    .dataframe tbody tr th {\n",
       "        vertical-align: top;\n",
       "    }\n",
       "\n",
       "    .dataframe thead th {\n",
       "        text-align: right;\n",
       "    }\n",
       "</style>\n",
       "<table border=\"1\" class=\"dataframe\">\n",
       "  <thead>\n",
       "    <tr style=\"text-align: right;\">\n",
       "      <th></th>\n",
       "      <th>loan_amount</th>\n",
       "      <th>applicant_income</th>\n",
       "    </tr>\n",
       "  </thead>\n",
       "  <tbody>\n",
       "    <tr>\n",
       "      <th>count</th>\n",
       "      <td>1969.000000</td>\n",
       "      <td>1969.000000</td>\n",
       "    </tr>\n",
       "    <tr>\n",
       "      <th>mean</th>\n",
       "      <td>143.505333</td>\n",
       "      <td>84.908075</td>\n",
       "    </tr>\n",
       "    <tr>\n",
       "      <th>std</th>\n",
       "      <td>80.802291</td>\n",
       "      <td>87.439115</td>\n",
       "    </tr>\n",
       "    <tr>\n",
       "      <th>min</th>\n",
       "      <td>2.000000</td>\n",
       "      <td>0.000000</td>\n",
       "    </tr>\n",
       "    <tr>\n",
       "      <th>25%</th>\n",
       "      <td>100.000000</td>\n",
       "      <td>48.000000</td>\n",
       "    </tr>\n",
       "    <tr>\n",
       "      <th>50%</th>\n",
       "      <td>126.000000</td>\n",
       "      <td>64.000000</td>\n",
       "    </tr>\n",
       "    <tr>\n",
       "      <th>75%</th>\n",
       "      <td>165.000000</td>\n",
       "      <td>88.000000</td>\n",
       "    </tr>\n",
       "    <tr>\n",
       "      <th>max</th>\n",
       "      <td>980.000000</td>\n",
       "      <td>972.000000</td>\n",
       "    </tr>\n",
       "  </tbody>\n",
       "</table>\n",
       "</div>"
      ],
      "text/plain": [
       "       loan_amount  applicant_income\n",
       "count  1969.000000       1969.000000\n",
       "mean    143.505333         84.908075\n",
       "std      80.802291         87.439115\n",
       "min       2.000000          0.000000\n",
       "25%     100.000000         48.000000\n",
       "50%     126.000000         64.000000\n",
       "75%     165.000000         88.000000\n",
       "max     980.000000        972.000000"
      ]
     },
     "execution_count": 35,
     "metadata": {},
     "output_type": "execute_result"
    }
   ],
   "source": [
    "# Descriptive statistics of the subset retrieved\n",
    "subset.describe()"
   ]
  },
  {
   "cell_type": "markdown",
   "metadata": {},
   "source": [
    "The basic descriptive statistics of the columns loan amount and applicant income are shown in the table. The mean loan amount of all applicants is 143.5, whereas the mean income of all applicants is only 84.9. The maximum loan amount from the dats is 980, whereas the minimum loan amount from the data is 2"
   ]
  },
  {
   "cell_type": "markdown",
   "metadata": {},
   "source": [
    "## 9. Conduct a statistical test of the significance of the difference between the means of two subsets of the data. Provide verbal comments."
   ]
  },
  {
   "cell_type": "markdown",
   "metadata": {},
   "source": [
    "Independent Sample test 1"
   ]
  },
  {
   "cell_type": "code",
   "execution_count": 36,
   "metadata": {},
   "outputs": [
    {
     "data": {
      "text/plain": [
       "148.79325421611492"
      ]
     },
     "execution_count": 36,
     "metadata": {},
     "output_type": "execute_result"
    }
   ],
   "source": [
    "# Se;ect the loan amount of 'male'\n",
    "m = df[subset['gender']=='male']['loan_amount']\n",
    "# mean loan amount\n",
    "m.mean()"
   ]
  },
  {
   "cell_type": "code",
   "execution_count": 37,
   "metadata": {},
   "outputs": [
    {
     "data": {
      "text/plain": [
       "120.5"
      ]
     },
     "execution_count": 37,
     "metadata": {},
     "output_type": "execute_result"
    }
   ],
   "source": [
    "#Select the loan amount of female\n",
    "f = df[subset['gender']== 'female']['loan_amount']\n",
    "#mean loan amount\n",
    "f.mean()"
   ]
  },
  {
   "cell_type": "markdown",
   "metadata": {},
   "source": [
    "The first Independent sample t-test is conducted to determine if there is a significant difference between the means of the population gender, male and female. Here \"m\" is taken as the mean loan amount of all male applicants . Similarly \"f\" for all female applicants. Here the null hypothesis is that the difference between the means of loan amounts of male and female applicants is 0 or no difference. The alternative hypothesis would be that the means are significantly lower or higher than each other.\n"
   ]
  },
  {
   "cell_type": "code",
   "execution_count": 38,
   "metadata": {},
   "outputs": [
    {
     "name": "stdout",
     "output_type": "stream",
     "text": [
      "t-value: 6.112681794453549, p-value: 1.1782503145167685e-09\n"
     ]
    }
   ],
   "source": [
    "# Calculate the test statistic\n",
    "t_val, p_val = stats.ttest_ind(m,f)\n",
    "print(f\"t-value: {t_val}, p-value: {p_val}\")"
   ]
  },
  {
   "cell_type": "markdown",
   "metadata": {},
   "source": [
    "Here the p-value is less than the signifance level 0.05 (p-value < 0.05) Therefore we reject the null hypothesis that mean loan amount of males is not different from females."
   ]
  },
  {
   "cell_type": "markdown",
   "metadata": {},
   "source": [
    "Independent Sample t-test 2"
   ]
  },
  {
   "cell_type": "code",
   "execution_count": 39,
   "metadata": {},
   "outputs": [
    {
     "data": {
      "text/plain": [
       "84.10191082802548"
      ]
     },
     "execution_count": 39,
     "metadata": {},
     "output_type": "execute_result"
    }
   ],
   "source": [
    "# Selct the applicant income of approved loans\n",
    "a = df[subset['loan_decision'] == 'approve']['applicant_income']\n",
    "\n",
    "# mean applicant income\n",
    "a.mean() "
   ]
  },
  {
   "cell_type": "code",
   "execution_count": 40,
   "metadata": {},
   "outputs": [
    {
     "data": {
      "text/plain": [
       "90.66115702479338"
      ]
     },
     "execution_count": 40,
     "metadata": {},
     "output_type": "execute_result"
    }
   ],
   "source": [
    "# Select the applicant income of rejected loans\n",
    "r = df[subset['loan_decision'] == 'reject']['applicant_income']\n",
    "# mean applicant income\n",
    "r.mean()"
   ]
  },
  {
   "cell_type": "markdown",
   "metadata": {},
   "source": [
    "The second Independent sample t-test is conducted to determine if there is a significant difference between the means of the population loan decisions. Here \"a\" is taken as the mean applicant income of approved loans.Similarly \"r\" for all rejected loans. Here the null hypothesis is that the difference between the means of approved and rejected loans is 0 or no difference. The alternative hypothesis would be that the means are significantly lower or higher than each other."
   ]
  },
  {
   "cell_type": "code",
   "execution_count": 41,
   "metadata": {},
   "outputs": [
    {
     "name": "stdout",
     "output_type": "stream",
     "text": [
      "t-value: -1.0929508672464752, p-value: 0.27454920793283455\n"
     ]
    }
   ],
   "source": [
    "# Calculate the test statistic\n",
    "t_val, p_val = stats.ttest_ind(a,r)\n",
    "print(f\"t-value: {t_val}, p-value: {p_val}\") "
   ]
  },
  {
   "cell_type": "markdown",
   "metadata": {},
   "source": [
    "\n",
    "Here the p-value is greater than the signifance level 0.05 (p-value < 0.05) Therefore we do not need to reject the null hypothesis that mean loan applicant income of approved loans is different from the mean applicant income of rejected loans."
   ]
  },
  {
   "cell_type": "markdown",
   "metadata": {},
   "source": [
    "## 10. Create pivot tables, i.e., create a table that groups the data by a certain categorical variable and displays summaries for each categorical variable. Provide verbal comments."
   ]
  },
  {
   "cell_type": "code",
   "execution_count": 42,
   "metadata": {},
   "outputs": [
    {
     "data": {
      "text/html": [
       "<div>\n",
       "<style scoped>\n",
       "    .dataframe tbody tr th:only-of-type {\n",
       "        vertical-align: middle;\n",
       "    }\n",
       "\n",
       "    .dataframe tbody tr th {\n",
       "        vertical-align: top;\n",
       "    }\n",
       "\n",
       "    .dataframe thead th {\n",
       "        text-align: right;\n",
       "    }\n",
       "</style>\n",
       "<table border=\"1\" class=\"dataframe\">\n",
       "  <thead>\n",
       "    <tr style=\"text-align: right;\">\n",
       "      <th></th>\n",
       "      <th>loan_amount</th>\n",
       "    </tr>\n",
       "    <tr>\n",
       "      <th>gender</th>\n",
       "      <th></th>\n",
       "    </tr>\n",
       "  </thead>\n",
       "  <tbody>\n",
       "    <tr>\n",
       "      <th>female</th>\n",
       "      <td>120.500000</td>\n",
       "    </tr>\n",
       "    <tr>\n",
       "      <th>male</th>\n",
       "      <td>148.793254</td>\n",
       "    </tr>\n",
       "  </tbody>\n",
       "</table>\n",
       "</div>"
      ],
      "text/plain": [
       "        loan_amount\n",
       "gender             \n",
       "female   120.500000\n",
       "male     148.793254"
      ]
     },
     "execution_count": 42,
     "metadata": {},
     "output_type": "execute_result"
    }
   ],
   "source": [
    "# Create Pivot tables between categorical variables 'gender' and 'loan_amount'\n",
    "pivot1 = df.pivot_table(index=['gender'], values=['loan_amount'], aggfunc='mean')\n",
    "pivot1"
   ]
  },
  {
   "cell_type": "markdown",
   "metadata": {},
   "source": [
    "Pivot Table 1 is used to represent the summarise the categorical variable 'loan_amount' in relation to 'gender'. It shows that the average loan amount of female applicants is 120.5. Whereas the average loan amount of male applicants is 148.8."
   ]
  },
  {
   "cell_type": "code",
   "execution_count": 43,
   "metadata": {},
   "outputs": [
    {
     "data": {
      "text/html": [
       "<div>\n",
       "<style scoped>\n",
       "    .dataframe tbody tr th:only-of-type {\n",
       "        vertical-align: middle;\n",
       "    }\n",
       "\n",
       "    .dataframe tbody tr th {\n",
       "        vertical-align: top;\n",
       "    }\n",
       "\n",
       "    .dataframe thead th {\n",
       "        text-align: right;\n",
       "    }\n",
       "</style>\n",
       "<table border=\"1\" class=\"dataframe\">\n",
       "  <thead>\n",
       "    <tr style=\"text-align: right;\">\n",
       "      <th></th>\n",
       "      <th>loan_amount</th>\n",
       "    </tr>\n",
       "    <tr>\n",
       "      <th>married</th>\n",
       "      <th></th>\n",
       "    </tr>\n",
       "  </thead>\n",
       "  <tbody>\n",
       "    <tr>\n",
       "      <th>False</th>\n",
       "      <td>122.991058</td>\n",
       "    </tr>\n",
       "    <tr>\n",
       "      <th>True</th>\n",
       "      <td>154.110169</td>\n",
       "    </tr>\n",
       "  </tbody>\n",
       "</table>\n",
       "</div>"
      ],
      "text/plain": [
       "         loan_amount\n",
       "married             \n",
       "False     122.991058\n",
       "True      154.110169"
      ]
     },
     "execution_count": 43,
     "metadata": {},
     "output_type": "execute_result"
    }
   ],
   "source": [
    "# Create Pivot tables between categorical variables 'married' and 'loan_amount'\n",
    "pivot2 = df.pivot_table(index=['married'], values=['loan_amount'], aggfunc='mean')\n",
    "pivot2 "
   ]
  },
  {
   "cell_type": "markdown",
   "metadata": {},
   "source": [
    "Pivot Table 2 is used to represent the summarise the categorical variable 'loan_amount' in relation to 'gender'. It shows that the average loan amount of unmarried applicants is 122.9.Whereas the average loan amount of male applicants is 154.1."
   ]
  },
  {
   "cell_type": "code",
   "execution_count": 44,
   "metadata": {},
   "outputs": [
    {
     "data": {
      "text/html": [
       "<div>\n",
       "<style scoped>\n",
       "    .dataframe tbody tr th:only-of-type {\n",
       "        vertical-align: middle;\n",
       "    }\n",
       "\n",
       "    .dataframe tbody tr th {\n",
       "        vertical-align: top;\n",
       "    }\n",
       "\n",
       "    .dataframe thead th {\n",
       "        text-align: right;\n",
       "    }\n",
       "</style>\n",
       "<table border=\"1\" class=\"dataframe\">\n",
       "  <thead>\n",
       "    <tr style=\"text-align: right;\">\n",
       "      <th></th>\n",
       "      <th>loan_amount</th>\n",
       "    </tr>\n",
       "    <tr>\n",
       "      <th>race</th>\n",
       "      <th></th>\n",
       "    </tr>\n",
       "  </thead>\n",
       "  <tbody>\n",
       "    <tr>\n",
       "      <th>black</th>\n",
       "      <td>136.630769</td>\n",
       "    </tr>\n",
       "    <tr>\n",
       "      <th>hispan</th>\n",
       "      <td>130.777778</td>\n",
       "    </tr>\n",
       "    <tr>\n",
       "      <th>white</th>\n",
       "      <td>145.135054</td>\n",
       "    </tr>\n",
       "  </tbody>\n",
       "</table>\n",
       "</div>"
      ],
      "text/plain": [
       "        loan_amount\n",
       "race               \n",
       "black    136.630769\n",
       "hispan   130.777778\n",
       "white    145.135054"
      ]
     },
     "execution_count": 44,
     "metadata": {},
     "output_type": "execute_result"
    }
   ],
   "source": [
    "# Create Pivot tables between categorical variables 'race' and 'loan_amount'\n",
    "pivot3 = df.pivot_table(index=['race'], values=['loan_amount'], aggfunc='mean')\n",
    "pivot3 "
   ]
  },
  {
   "cell_type": "markdown",
   "metadata": {},
   "source": [
    "\n",
    "Pivot Table 3 is used to represent the summarise the categorical variable 'loan_amount' in relation to 'gender'. It shows that the average loan amount of white applicants is 145.1. Whereas the average loan amount of black and hispan applicants are 136.6 and 130.7."
   ]
  },
  {
   "cell_type": "code",
   "execution_count": 45,
   "metadata": {},
   "outputs": [
    {
     "data": {
      "text/html": [
       "<div>\n",
       "<style scoped>\n",
       "    .dataframe tbody tr th:only-of-type {\n",
       "        vertical-align: middle;\n",
       "    }\n",
       "\n",
       "    .dataframe tbody tr th {\n",
       "        vertical-align: top;\n",
       "    }\n",
       "\n",
       "    .dataframe thead th {\n",
       "        text-align: right;\n",
       "    }\n",
       "</style>\n",
       "<table border=\"1\" class=\"dataframe\">\n",
       "  <thead>\n",
       "    <tr style=\"text-align: right;\">\n",
       "      <th></th>\n",
       "      <th>loan_amount</th>\n",
       "    </tr>\n",
       "    <tr>\n",
       "      <th>self_employed</th>\n",
       "      <th></th>\n",
       "    </tr>\n",
       "  </thead>\n",
       "  <tbody>\n",
       "    <tr>\n",
       "      <th>False</th>\n",
       "      <td>138.962033</td>\n",
       "    </tr>\n",
       "    <tr>\n",
       "      <th>True</th>\n",
       "      <td>173.770428</td>\n",
       "    </tr>\n",
       "  </tbody>\n",
       "</table>\n",
       "</div>"
      ],
      "text/plain": [
       "               loan_amount\n",
       "self_employed             \n",
       "False           138.962033\n",
       "True            173.770428"
      ]
     },
     "execution_count": 45,
     "metadata": {},
     "output_type": "execute_result"
    }
   ],
   "source": [
    "# Create Pivot tables between categorical variables 'self_employed' and 'loan_amount'\n",
    "pivot4 = df.pivot_table(index=['self_employed'], values=['loan_amount'], aggfunc='mean')\n",
    "pivot4 "
   ]
  },
  {
   "cell_type": "markdown",
   "metadata": {},
   "source": [
    "Pivot Table 4 is used to represent the summarise the categorical variable 'loan_amount' in relation to 'gender'. It shows that the average loan amount of not self-employed applicants is 138.9. Whereas the average loan amount of self − employed applicants is 173.7"
   ]
  },
  {
   "cell_type": "markdown",
   "metadata": {},
   "source": [
    "\n",
    "## 11. Implement a linear regression model and interpret its output."
   ]
  },
  {
   "cell_type": "markdown",
   "metadata": {},
   "source": [
    "In a simple linear regression model, we’d like to predict the loan amount of a loan applicant from the average income of the applicants applyied for the loan. That is, loan amount is the dependent variable (Y) and applicant income is the independent variable (X)."
   ]
  },
  {
   "cell_type": "code",
   "execution_count": 46,
   "metadata": {},
   "outputs": [
    {
     "data": {
      "text/html": [
       "\n",
       "  <div id=\"ea9dd186-6a67-4925-ad45-0361498d0a34\" data-root-id=\"p1001\" style=\"display: contents;\"></div>\n"
      ]
     },
     "metadata": {},
     "output_type": "display_data"
    },
    {
     "data": {
      "application/javascript": "(function(root) {\n  function embed_document(root) {\n  const docs_json = {\"25da630c-3d4a-4d42-8461-3e6d1a98cad3\":{\"version\":\"3.5.1\",\"title\":\"Bokeh Application\",\"roots\":[{\"type\":\"object\",\"name\":\"Figure\",\"id\":\"p1001\",\"attributes\":{\"width\":400,\"height\":400,\"x_range\":{\"type\":\"object\",\"name\":\"DataRange1d\",\"id\":\"p1002\"},\"y_range\":{\"type\":\"object\",\"name\":\"DataRange1d\",\"id\":\"p1003\"},\"x_scale\":{\"type\":\"object\",\"name\":\"LinearScale\",\"id\":\"p1010\"},\"y_scale\":{\"type\":\"object\",\"name\":\"LinearScale\",\"id\":\"p1011\"},\"title\":{\"type\":\"object\",\"name\":\"Title\",\"id\":\"p1008\"},\"renderers\":[{\"type\":\"object\",\"name\":\"GlyphRenderer\",\"id\":\"p1041\",\"attributes\":{\"data_source\":{\"type\":\"object\",\"name\":\"ColumnDataSource\",\"id\":\"p1035\",\"attributes\":{\"selected\":{\"type\":\"object\",\"name\":\"Selection\",\"id\":\"p1036\",\"attributes\":{\"indices\":[],\"line_indices\":[]}},\"selection_policy\":{\"type\":\"object\",\"name\":\"UnionRenderers\",\"id\":\"p1037\"},\"data\":{\"type\":\"map\",\"entries\":[[\"x\",{\"type\":\"ndarray\",\"array\":{\"type\":\"bytes\",\"data\":\"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\"},\"shape\":[1969],\"dtype\":\"int32\",\"order\":\"little\"}],[\"y\",{\"type\":\"ndarray\",\"array\":{\"type\":\"bytes\",\"data\":\"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\"},\"shape\":[1969],\"dtype\":\"int32\",\"order\":\"little\"}]]}}},\"view\":{\"type\":\"object\",\"name\":\"CDSView\",\"id\":\"p1042\",\"attributes\":{\"filter\":{\"type\":\"object\",\"name\":\"AllIndices\",\"id\":\"p1043\"}}},\"glyph\":{\"type\":\"object\",\"name\":\"Circle\",\"id\":\"p1038\",\"attributes\":{\"x\":{\"type\":\"field\",\"field\":\"x\"},\"y\":{\"type\":\"field\",\"field\":\"y\"},\"line_color\":{\"type\":\"value\",\"value\":\"#1f77b4\"},\"fill_color\":{\"type\":\"value\",\"value\":\"#1f77b4\"}}},\"nonselection_glyph\":{\"type\":\"object\",\"name\":\"Circle\",\"id\":\"p1039\",\"attributes\":{\"x\":{\"type\":\"field\",\"field\":\"x\"},\"y\":{\"type\":\"field\",\"field\":\"y\"},\"line_color\":{\"type\":\"value\",\"value\":\"#1f77b4\"},\"line_alpha\":{\"type\":\"value\",\"value\":0.1},\"fill_color\":{\"type\":\"value\",\"value\":\"#1f77b4\"},\"fill_alpha\":{\"type\":\"value\",\"value\":0.1},\"hatch_alpha\":{\"type\":\"value\",\"value\":0.1}}},\"muted_glyph\":{\"type\":\"object\",\"name\":\"Circle\",\"id\":\"p1040\",\"attributes\":{\"x\":{\"type\":\"field\",\"field\":\"x\"},\"y\":{\"type\":\"field\",\"field\":\"y\"},\"line_color\":{\"type\":\"value\",\"value\":\"#1f77b4\"},\"line_alpha\":{\"type\":\"value\",\"value\":0.2},\"fill_color\":{\"type\":\"value\",\"value\":\"#1f77b4\"},\"fill_alpha\":{\"type\":\"value\",\"value\":0.2},\"hatch_alpha\":{\"type\":\"value\",\"value\":0.2}}}}}],\"toolbar\":{\"type\":\"object\",\"name\":\"Toolbar\",\"id\":\"p1009\",\"attributes\":{\"tools\":[{\"type\":\"object\",\"name\":\"PanTool\",\"id\":\"p1022\"},{\"type\":\"object\",\"name\":\"WheelZoomTool\",\"id\":\"p1023\",\"attributes\":{\"renderers\":\"auto\"}},{\"type\":\"object\",\"name\":\"BoxZoomTool\",\"id\":\"p1024\",\"attributes\":{\"overlay\":{\"type\":\"object\",\"name\":\"BoxAnnotation\",\"id\":\"p1025\",\"attributes\":{\"syncable\":false,\"line_color\":\"black\",\"line_alpha\":1.0,\"line_width\":2,\"line_dash\":[4,4],\"fill_color\":\"lightgrey\",\"fill_alpha\":0.5,\"level\":\"overlay\",\"visible\":false,\"left\":{\"type\":\"number\",\"value\":\"nan\"},\"right\":{\"type\":\"number\",\"value\":\"nan\"},\"top\":{\"type\":\"number\",\"value\":\"nan\"},\"bottom\":{\"type\":\"number\",\"value\":\"nan\"},\"left_units\":\"canvas\",\"right_units\":\"canvas\",\"top_units\":\"canvas\",\"bottom_units\":\"canvas\",\"handles\":{\"type\":\"object\",\"name\":\"BoxInteractionHandles\",\"id\":\"p1031\",\"attributes\":{\"all\":{\"type\":\"object\",\"name\":\"AreaVisuals\",\"id\":\"p1030\",\"attributes\":{\"fill_color\":\"white\",\"hover_fill_color\":\"lightgray\"}}}}}}}},{\"type\":\"object\",\"name\":\"SaveTool\",\"id\":\"p1032\"},{\"type\":\"object\",\"name\":\"ResetTool\",\"id\":\"p1033\"},{\"type\":\"object\",\"name\":\"HelpTool\",\"id\":\"p1034\"}]}},\"left\":[{\"type\":\"object\",\"name\":\"LinearAxis\",\"id\":\"p1017\",\"attributes\":{\"ticker\":{\"type\":\"object\",\"name\":\"BasicTicker\",\"id\":\"p1018\",\"attributes\":{\"mantissas\":[1,2,5]}},\"formatter\":{\"type\":\"object\",\"name\":\"BasicTickFormatter\",\"id\":\"p1019\"},\"major_label_policy\":{\"type\":\"object\",\"name\":\"AllLabels\",\"id\":\"p1020\"}}}],\"below\":[{\"type\":\"object\",\"name\":\"LinearAxis\",\"id\":\"p1012\",\"attributes\":{\"ticker\":{\"type\":\"object\",\"name\":\"BasicTicker\",\"id\":\"p1013\",\"attributes\":{\"mantissas\":[1,2,5]}},\"formatter\":{\"type\":\"object\",\"name\":\"BasicTickFormatter\",\"id\":\"p1014\"},\"major_label_policy\":{\"type\":\"object\",\"name\":\"AllLabels\",\"id\":\"p1015\"}}}],\"center\":[{\"type\":\"object\",\"name\":\"Grid\",\"id\":\"p1016\",\"attributes\":{\"axis\":{\"id\":\"p1012\"}}},{\"type\":\"object\",\"name\":\"Grid\",\"id\":\"p1021\",\"attributes\":{\"dimension\":1,\"axis\":{\"id\":\"p1017\"}}}]}}]}};\n  const render_items = [{\"docid\":\"25da630c-3d4a-4d42-8461-3e6d1a98cad3\",\"roots\":{\"p1001\":\"ea9dd186-6a67-4925-ad45-0361498d0a34\"},\"root_ids\":[\"p1001\"]}];\n  void root.Bokeh.embed.embed_items_notebook(docs_json, render_items);\n  }\n  if (root.Bokeh !== undefined) {\n    embed_document(root);\n  } else {\n    let attempts = 0;\n    const timer = setInterval(function(root) {\n      if (root.Bokeh !== undefined) {\n        clearInterval(timer);\n        embed_document(root);\n      } else {\n        attempts++;\n        if (attempts > 100) {\n          clearInterval(timer);\n          console.log(\"Bokeh: ERROR: Unable to run BokehJS code because BokehJS library is missing\");\n        }\n      }\n    }, 10, root)\n  }\n})(window);",
      "application/vnd.bokehjs_exec.v0+json": ""
     },
     "metadata": {
      "application/vnd.bokehjs_exec.v0+json": {
       "id": "p1001"
      }
     },
     "output_type": "display_data"
    }
   ],
   "source": [
    "#  Visualize relationship between 'applicant_income' and 'loan_amount'\n",
    "fig = figure(height=400, width=400)\n",
    "fig.circle(df['applicant_income'], df['loan_amount'])\n",
    "show(fig)"
   ]
  },
  {
   "cell_type": "markdown",
   "metadata": {},
   "source": [
    "The visualisation shows the relationship between the loan amount and income of the applicants. The plots are scatter throughout the plane and are also congested at a part of the plane."
   ]
  },
  {
   "cell_type": "code",
   "execution_count": 47,
   "metadata": {},
   "outputs": [
    {
     "data": {
      "text/plain": [
       "0.43271137519859765"
      ]
     },
     "execution_count": 47,
     "metadata": {},
     "output_type": "execute_result"
    }
   ],
   "source": [
    "# Check Correlation between 'applicant_income' and 'loan_amount'\n",
    "df['applicant_income'].corr(df['loan_amount'], method='pearson')"
   ]
  },
  {
   "cell_type": "markdown",
   "metadata": {},
   "source": [
    "The Pearson correlation coeefficient also shows that there is a positive relationship between them."
   ]
  },
  {
   "cell_type": "code",
   "execution_count": 48,
   "metadata": {},
   "outputs": [],
   "source": [
    "# Create a model to build linear regression\n",
    "model = sm.OLS.from_formula('loan_amount ~ applicant_income', data=df).fit() "
   ]
  },
  {
   "cell_type": "code",
   "execution_count": 49,
   "metadata": {},
   "outputs": [
    {
     "name": "stdout",
     "output_type": "stream",
     "text": [
      "109.5533428265654\n",
      "0.39986761875832794\n"
     ]
    }
   ],
   "source": [
    "# Obtain slope and intercept\n",
    "intercept, slope = model.params\n",
    "print(intercept)\n",
    "print(slope)"
   ]
  },
  {
   "cell_type": "code",
   "execution_count": 50,
   "metadata": {},
   "outputs": [],
   "source": [
    "# Obtain the predicted values\n",
    "y_pred = [slope*i + intercept  for i in df['applicant_income']] "
   ]
  },
  {
   "cell_type": "code",
   "execution_count": 51,
   "metadata": {},
   "outputs": [
    {
     "data": {
      "text/html": [
       "\n",
       "  <div id=\"fa7dc406-2e68-40b5-8525-d5bebc9120c5\" data-root-id=\"p1046\" style=\"display: contents;\"></div>\n"
      ]
     },
     "metadata": {},
     "output_type": "display_data"
    },
    {
     "data": {
      "application/javascript": "(function(root) {\n  function embed_document(root) {\n  const docs_json = {\"01816c2b-771f-4a76-8593-bc01d20ed457\":{\"version\":\"3.5.1\",\"title\":\"Bokeh Application\",\"roots\":[{\"type\":\"object\",\"name\":\"Figure\",\"id\":\"p1046\",\"attributes\":{\"width\":400,\"height\":400,\"x_range\":{\"type\":\"object\",\"name\":\"DataRange1d\",\"id\":\"p1047\"},\"y_range\":{\"type\":\"object\",\"name\":\"DataRange1d\",\"id\":\"p1048\"},\"x_scale\":{\"type\":\"object\",\"name\":\"LinearScale\",\"id\":\"p1055\"},\"y_scale\":{\"type\":\"object\",\"name\":\"LinearScale\",\"id\":\"p1056\"},\"title\":{\"type\":\"object\",\"name\":\"Title\",\"id\":\"p1053\"},\"renderers\":[{\"type\":\"object\",\"name\":\"GlyphRenderer\",\"id\":\"p1086\",\"attributes\":{\"data_source\":{\"type\":\"object\",\"name\":\"ColumnDataSource\",\"id\":\"p1080\",\"attributes\":{\"selected\":{\"type\":\"object\",\"name\":\"Selection\",\"id\":\"p1081\",\"attributes\":{\"indices\":[],\"line_indices\":[]}},\"selection_policy\":{\"type\":\"object\",\"name\":\"UnionRenderers\",\"id\":\"p1082\"},\"data\":{\"type\":\"map\",\"entries\":[[\"x\",{\"type\":\"ndarray\",\"array\":{\"type\":\"bytes\",\"data\":\"SgAAAFQAAAAkAAAAOwAAAD8AAABIAAAAWgAAAEgAAACQAAAAYQAAAC4AAACaAgAAPAAAADAAAAAhAAAAQgAAAGIAAAAdAQAAYwAAADcAAACaAgAALwAAADsAAACHAAAANAAAAHUAAAA4AAAAHwAAAFIAAABAAAAAsQAAACwAAAA7AAAAKgAAAJoCAACaAgAAPwAAAB8AAABJAAAAagAAAFwAAAA1AAAAewAAAIsAAAA+AAAAXwEAADwAAABEAAAAJwAAAEoAAAA5AAAASAAAABsAAAA2AAAALAAAADcAAACdAAAAbAAAAGcAAAB3AAAAEwEAACgAAAA0AAAAcwAAAD0AAAA9AAAAIwAAAEgAAAA5AAAAIwAAAD8AAABHAAAAXwAAAEAAAABUAAAAGwAAABsAAAAjAAAAOwAAADUAAAAyAAAAQgAAACsAAAARAAAARgAAACoAAACdAAAAIAEAAHgAAABkAAAARwAAAJIAAAAmAAAAOAAAADgAAABGAAAARAAAAAAAAABpAAAANAAAACQAAABBAAAAWgAAADQAAAAxAAAAzgAAAGMAAAAgAAAAPgAAAD8AAAAyAAAAOQAAAEEAAAA6AAAACQEAACsAAAAkAAAAKgAAAHcAAAAYAAAAGQAAAD4AAAAoAAAAeAAAAEgAAABEAAAASwAAAAMBAAA8AAAAPwAAADMAAABAAAAAKQAAAEQAAABNAAAAaAAAAGIAAAAzAAAAWgAAAEgAAABHAAAASQAAAP0AAABLAAAAdQAAAB4AAABAAAAAXgAAACABAABjAAAAKwAAADUAAAA0AAAAMQAAACEAAAAbAAAALQAAADwAAABDAAAAMwAAABkAAAAkAAAAMAAAAEsAAACHAAAAcwAAAE0AAAAxAAAAegAAADgAAACAAAAAQAAAACEAAACdAAAANwAAADwAAAA8AAAAdQAAAFUAAAAzAAAAOwAAAIoAAAA+AAAAMAAAADQAAAA0AAAAfgAAADEAAACEAAAAKwAAAC0AAAA2AAAARgAAAHgAAABLAAAAbgAAAG4AAAAwAAAAJgAAAJsAAACyAAAAJQAAAEAAAACJAAAAMwAAAD0AAABHAAAAJAAAADsAAAAwAAAALAAAAEYAAABAAAAAjgAAAEMAAABOAAAAKQAAADIAAABOAAAAFgAAAHwAAAAvAAAAMwAAADoAAABSAAAAbQAAACwAAABhAAAAgQAAAIoAAAB7AAAAIQAAAEgAAABVAAAAJgAAACUAAAA9AAAAMwAAAEsAAAAlAAAAmgIAAD4AAAAvAAAAHgAAAEcAAAA5AAAANQAAACQAAABUAAAASQAAAC0AAABmAAAAKAAAADQAAAA8AAAAVQAAAEkAAABAAAAALgAAAEIAAAAuAAAAHQAAADUAAAB6AAAAVgAAAGMAAABLAAAAVQAAAGMAAABrAAAAMAAAACYAAAA+AAAATAAAADsAAABMAAAASAAAADcAAABJAAAAMgAAACQAAAAfAAAAYAAAAGcAAAAiAAAALQAAADMAAAAwAAAAMwAAADwAAAA2AAAAQgAAAD0AAABxAAAAMwAAADAAAABYAAAAVQAAAEcAAAA3AAAANwAAAEUAAAAvAAAAKAAAAHYAAABHAAAAQAAAACEAAAA1AAAAUgAAAEAAAAA1AAAAjwAAAD0AAACfAAAAVQAAADIAAABVAAAAMwAAAC0AAABRAAAAKwAAADwAAAAwAAAAjQAAAG4AAAAaAAAAJAAAADIAAABYAAAASAAAACQAAAA8AAAAtAAAADYAAABRAAAALQAAAEAAAAAkAAAAWQAAAGwAAAArAAAANgAAAGsAAACHAAAATgAAADgAAABQAAAAXgAAAEUAAABjAAAAQQAAAFwAAABbAAAAWwAAADAAAABKAAAALAAAAHMAAAArAAAAMwAAADYAAACXAAAAWAAAADwAAABSAAAAHwAAAFYBAABGAAAANgAAADYAAABBAAAAWQAAAEgAAAAgAAAAPwAAAGMAAAAiAAAAQAAAAGQAAAA/AAAAOgAAAC8AAAAsAAAAXAAAAFkAAAA3AAAAkAAAAB8AAAAuAAAAMQAAADwAAADfAAAAVAAAABMBAABKAAAAGwAAAEEAAAArAAAAUwAAAEMAAABUAAAAcAAAAB4AAAAvAAAAQAAAACsAAABUAAAAWgAAAEYAAABSAAAAmgIAAFUAAAA6AAAAXgAAAH0AAABuAAAANgAAAEcAAABkAAAAcQAAAGYDAABQAAAAMgAAAHoAAAAjAAAANAAAAB0AAADIAAAAMAAAAKAAAAB6AAAAVgAAAF0AAABbAAAATQAAACwAAABLAAAAMgAAAGUAAAAjAAAAGAEAAEIAAAA1AAAArAAAAJgAAAD/AAAANwAAACkAAAA4AAAAbAAAACwAAACHAAAAQAAAAD4AAAAsAAAAJQAAAGYAAAAlAAAAKAAAACsAAADyAAAAMwAAAD8AAAA8AAAAMAAAAHgAAABCAAAAWgAAADEAAAAhAAAAMwAAAEsAAACaAgAAKQAAAKIAAABeAAAAJwAAAFUAAABAAAAAeAAAADcAAABNAAAAUgAAAMAAAABEAAAALgAAAIECAABTAAAAVgAAAEEAAABDAAAAWgAAAIcAAAAwAAAAZwAAAFMAAAA/AAAAOgAAADkAAACNAAAAPgAAACUAAABrAAAAVAAAAEYAAAAcAAAAOAAAAEUAAACQAAAAJAAAAIwAAABEAAAAOwAAADAAAABrAAAALAAAAFYAAAAIAQAAUwAAAEsAAABMAAAAIgAAAG4AAAA4AAAASAAAADUAAAAnAAAAkAEAACIAAAA2AAAAQgAAAH8AAABIAAAAGwAAAHIAAAAzAAAAXwAAAD0AAAAvAAAAKgAAAD8AAAAeAAAASgAAAHgAAAAxAAAAOAAAAD0AAAAjAAAAJwAAAEYAAAA8AAAALgAAACsAAABgAAAAKAAAAGMAAAA0AAAAIgAAADYAAAA2AAAAegAAAEMAAABFAAAAcQAAAEYAAABSAAAASAAAAGUAAAA3AAAARgAAABsAAABgAAAAKwAAAIQAAABQAAAANAAAAG0CAAAvAAAAMQAAADEAAAApAAAAJgAAAEwAAAA+AAAAKQAAAIgAAAApAAAAPQAAACcAAAArAAAAawAAAH0AAABkAAAARgAAABoAAAAXAAAANgAAAEEAAAAeAAAALwAAAC8AAADKAAAAOQAAAFgAAAAzAAAAdAAAACUAAAAtAAAAOwAAADMAAABGAAAAJQAAAB4AAABCAAAAPgAAACMAAAAeAAAAJgAAADIAAABFAAAALAAAAGAAAAAiAAAApAAAAFQAAABLAAAANwAAAOQAAADcAAAAMAAAADAAAAAaAAAARQAAADYAAABIAAAANAAAAFUAAABWAAAAVAAAACgAAABKAAAAOwAAAGsAAAA7AAAATQAAAJYAAACEAAAATgAAACwAAAA8AAAAmgIAADgAAABOAAAAWgAAADIAAABFAAAAkQAAACIAAAAmAAAANwAAADgAAABUAAAARAAAAHgAAAA+AAAASQAAACQAAAA7AAAAdAAAAEkAAAArAAAANAAAAEUAAACHAAAAKQAAAE4AAABQAAAAkQAAADcAAABqAAAA6gAAAC8AAAA1AAAAJwAAABwAAAA8AAAATQAAAEoAAAAdAAAAQgAAAFwBAAApAAAAPAAAAGAAAAAVAAAAUQAAAHgAAAB4AAAASQAAADgAAAA1AAAAQwAAAF0AAAAwAAAARAAAAEYAAAAdAAAANwAAAEgAAAA6AAAAKAAAABcAAAAsAAAAMQAAAE8AAABCAAAAMgAAADoAAAAsAAAAHQEAAJ8AAABsAAAAcQAAAFAAAAArAAAAmgIAADAAAABzAAAAMwAAAHQBAABEAAAANgAAAEUAAABFAAAAPAAAAHgAAACDAAAAtAAAAGcAAABVAAAAOwAAADkAAAA8AAAAOQAAAEEAAABMAAAAOwAAAF8AAABhAAAATQAAADEAAABJAAAANwAAAC8AAABHAAAALQAAAEUAAAAoAAAApAEAAKQAAAAuAAAAXQAAAGQAAAA0AAAAPQAAAFUAAAApAAAAMgAAADsAAACdAAAAMAAAADgAAABFAAAASgAAACoAAABYAAAALQAAAIABAAAoAAAAPAAAAIMAAAA7AAAAiwAAAJAAAABUAAAAJAAAAC4AAABEAAAAOgAAAFAAAACcAAAAggAAAGgAAAApAAAAUQAAAFIAAABUAAAAYAAAAFAAAAAyAAAAdQAAAIsAAACWAAAAmgIAAEEAAABPAAAAMQAAAD8AAABHAAAAXwAAADEAAAAjAAAAPwAAAFkAAAAqAAAAQwAAAGYAAAAwAAAAIQAAAFoAAAAoAAAAJwAAADkAAAA9AAAAYAAAADAAAAB/AAAAPAAAAGoAAADDAAAAggAAACUAAABZAAAAXgAAADwAAACEAAAASgAAAFQAAAAzAAAAPwAAADoAAAB4AAAAMQAAACsAAADJAAAANwAAACoAAABzAAAARQAAAB4AAACBAAAALAAAAFoAAAAzAAAAQwAAAB4AAABWAAAAPgAAAEEAAABEAQAAWwAAADcAAABKAAAAWQAAACsAAAAqAAAAUAAAAEkAAAApAAAANwAAAHMAAABsAAAAKwAAACUAAAA/AAAAVQAAAIYAAAA4AAAAJwEAADoAAAA1AAAALQAAACEAAADMAAAAJQAAADcAAABHAAAAIAAAAFcAAAAtAAAA1QAAACQAAACvAAAAMQAAAEMAAABIAAAAIQAAABoAAABWAAAAOQAAACgAAAA8AAAAKgAAADoAAABpAAAAOQAAAEMAAAAFAQAAGwAAAEsAAAAzAAAAOAAAADUAAABgAAAAagAAAEgAAAAyAAAAOwAAACYAAAAZAAAAcgAAAEIAAABHAAAAMQAAAE8AAAA5AAAA+gAAAC4AAABCAAAAEwAAAEEAAAAdAAAARQAAAFkAAABEAAAAOAAAADAAAAD8AAAAUgAAADgAAABIAAAAPgAAAHMAAAAgAAAAKwAAAEEAAAA2AAAAbgAAADwAAAAoAAAAOgAAACUAAAAvAAAALAAAAGcAAAAwAAAAlgAAAJoCAAA2AAAAPAAAAD8AAABUAAAAKQAAAE4AAABEAAAAWwAAAFAAAAAiAAAALgAAAEQAAABTAAAAaQAAADAAAAAeAAAAFgAAADUAAAA1AAAAQQAAADQAAAAwAAAA8AAAADgBAABuAAAAeAAAAF8AAABFAAAAJAAAADgAAABAAAAAWwAAAB4AAABFAAAARAAAACAAAAA0AAAAdAAAAHgAAAAzAAAAfwAAACQAAAA9AAAAuAAAAE8AAAAsAQAArgAAADIAAAAxAAAAIwAAADgAAAB9AAAAhwAAAFcAAAA0AAAAeAAAAEEAAAA5AAAAHQAAAIgAAABIAAAALQAAADAAAAAjAAAAJgAAADMAAAA6AAAAYgAAACoAAABaAAAAgwAAACoAAABLAAAAOAAAADYAAAB4AAAANwAAACMAAAA2AAAAPgAAAEoAAABuAAAAnQAAAI0AAACPAAAAJwAAAEcAAAAzAAAASAAAADAAAAC0AAAAOAAAANMAAAA7AAAATQAAADgAAAAxAAAAMAAAAEgAAABNAAAAMwAAAJkAAABOAAAAbAAAADkAAABWAAAAYAAAAEcAAABlAAAAawAAAB0AAAAeAAAANgAAAHoAAAAwAAAAQQAAALYAAABuAAAAZAAAACsAAABFAAAAIwAAACAAAAAiAAAAHAMAACgAAACLAAAANAAAAGgAAABuAAAAKQAAAE8AAAA3AAAARwAAADoAAABVAAAAFgAAADEAAAA0AAAAHAAAAEIAAACaAgAARQAAAC0AAABSAAAAFQAAADwAAACQAAAAWwAAACYAAABZAAAARwAAADsAAAArAAAAMAAAAKcAAAAVAAAAMwAAAGkAAAAvAAAAgwAAAGsAAABlAAAAngAAADkAAABDAAAAIQAAAC4AAAAxAAAAOAAAAGQAAAAyAAAAigAAAFQAAABIAAAANQAAAHsAAAAyAAAATQAAAHQAAABpAAAAOAAAAEkAAABlAAAAOgAAAEYAAAApAAAAJQAAACsAAABDAAAAGwAAAF0AAABfAAAAaAAAAEYAAABBAAAAOwAAAEEAAABVAAAASAAAAFQAAABIAAAAUQAAAFIAAABKAAAANAAAACwAAAAxAAAANgAAAD4AAAAeAAAAOAAAAEQAAAA3AAAALAEAAFQAAAAsAAAAvQAAAFAAAABiAAAAPwAAADYAAAApAAAAKwAAALwAAADqAAAAPgAAADkAAAA4AAAAQwAAACkAAABHAAAAMwAAAEEAAACaAgAANAAAAHgAAAA9AAAAQwAAAD8AAACZAAAAIwAAABQBAABXAAAAVgAAADIAAAAzAAAAJQAAAEEAAABGAAAANgAAACcAAAB4AAAAHAAAAEgAAAAdAAAAQgAAAFYAAAAeAAAANwAAACwAAAAnAAAALQAAAEQAAACIAAAAJgAAAEoAAAA5AAAAIwAAAHMAAAA7AAAATgAAAFAAAAA2AAAAIgAAAD0AAAA9AAAAIwAAAJIAAACaAgAAHwAAAEAAAAA5AAAAMAAAACkAAABzAAAASAAAADMAAAArAAAANgAAACcAAACzAAAAMQAAAFcAAAArAAAAMAAAAF8AAABKAAAANgAAAEcAAAAmAAAAQQAAADwAAABJAAAANgAAABkAAAAoAAAAQwAAACQAAAA+AAAAJAAAAE8AAAA8AAAAZQAAADMAAABuAAAAOQAAAB0AAAAmAAAAJAAAABUBAABfAAAAmgIAABgAAABZAAAARwAAAD0AAAAsAAAANwAAACEAAAAwAAAANgAAAF0AAABcAAAAMAAAAFoAAABAAAAAGwAAAGQAAAAwAAAAzAMAAC8AAAAxAAAAKAAAAFwAAABBAAAASgAAAKMAAAD8AAAAKwAAAKAAAABJAAAANAAAAB8AAAAuAAAAMwAAAC4AAAA9AAAAMgAAAGAAAAAkAAAAzAAAADEAAABhAAAAHwAAABYAAAChAAAANAAAAC4AAAAyAAAAOAAAAEYAAAAoAAAAawAAAC0AAAAnAAAANwAAABsAAABCAAAAWQAAABwAAABWAAAAKwAAAHgAAAAqAAAANAAAAGwAAADNAAAATgAAAFQAAAA3AAAASwAAADYAAAAhAAAAVQAAAEEAAABBAAAAJAAAADAAAAAjAAAAZwAAADwAAABOAAAAIwAAACgAAAAwAAAALAAAADwAAAAuAAAAqAAAADkAAABGAAAAMAAAACIAAABAAAAAOwAAADwAAABGAAAAUAAAADwAAAAuAAAAtAAAAC4AAAAmAAAAWwAAAAoAAAA5AAAAPAAAAIAAAABWAAAAaQAAAHUAAABJAAAAOQAAAFEAAABeAAAATQAAAE4AAAAvAAAAQQAAAFAAAACaAgAANgAAADwAAAA8AAAARAAAALsAAAAyAAAANwAAAJYAAAAvAAAAOQAAADsAAAAxAAAA3QEAAOIAAAA4AAAAOwAAAD8AAAArAAAAKgAAADEAAAA0AAAARQAAAD8AAAA9AAAANAAAAFkAAAAwAAAAUAAAADwAAAA5AAAARgAAABwAAABGAAAAVQAAADwAAAArAAAAQQAAAEEAAABHAAAAMwAAAGYAAABkAAAAQgAAAE0AAABWAAAAxgAAAGUAAABLAAAAdgAAAGMAAABFAAAAIgAAADAAAABlAAAAPwAAAGgAAAA0AAAALwAAAEoAAAAnAAAAYAAAAF4AAABXAAAANQAAAFMAAAAOAQAAWgAAAD4AAABCAAAAOgAAACsAAABAAAAALQAAADEAAABIAAAASQAAACwAAAAYAAAAXAAAAC0AAADJAAAAJgAAAEgAAAA7AAAANAAAAIIAAABPAAAALwAAAIIAAAAtAAAAcAAAAEQAAADHAAAAQQEAACkAAAA9AAAAMAAAAEYAAAA4AAAAPgAAAB8AAAAeAAAAMwAAAHoAAACTAAAASAAAAMYAAABAAAAAZQAAADkAAADwAAAAkQAAACoAAAA0AAAAIQAAACUAAAA3AAAAMgAAAE0AAABLAAAAggAAAE4AAABkAAAAOAAAACQAAABLAAAAeAAAAB4AAAAzAAAARAAAAFUAAABBAAAAXgEAAJoCAABQAAAAHgAAAEgAAAAuAAAANAAAAEsAAAA8AAAATgAAADAAAAA3AAAAJQAAAEcAAABUAAAAcgAAAEoAAAAEAQAALAAAAJcAAAA4AAAAQwAAAFkAAABNAAAAWQAAAFYAAABLAAAAMwAAADsAAAATAAAARgAAAEwAAABFAAAANQAAADEAAABaAAAAbAAAACkAAAAyAAAAPwAAAJMAAAAwAAAANgAAAD4AAABIAAAAkAAAAEUAAAAkAAAAQQAAAH4AAAA0AAAASAAAACcAAAAoAAAASwAAADwAAAA1AAAAmgIAAK4BAAAgAAAAQAAAAHgAAABBAAAAYgAAAD4AAABDAAAARwAAAG8AAABfAAAAPQAAAEoBAAArAAAAQgAAAEgAAAArAAAAMwAAAC4AAAA2AAAAGAAAAEwAAAANAAAALQAAAGkAAAA5AAAAVgAAADAAAABhAAAAMgAAACsAAABAAAAAWgAAADcAAABBAAAALgAAAGoAAAApAAAAQAAAAEsAAAByAAAATgAAALQAAAA4AAAAPAAAACAAAABAAAAAUwAAADYAAACPAAAAjAEAAC8AAAA0AAAANAAAADUAAABIAAAARwAAABsAAAAyAAAANwAAAGMAAABQAAAASAAAAEMAAAAxAAAAPwAAADwAAACqAAAANAAAADUAAAAiAAAATwAAACUAAAA7AAAANAAAADMAAAA9AAAAMAAAAB4AAAA3AAAAVQAAALYAAABLAAAAyQAAAD8AAABRAAAALQAAAMIAAAA3AAAAOgAAACwAAAA8AAAAOQAAADUAAABRAAAAhAAAAEMAAAA6AAAAOwAAACYAAAAuAAAAPQAAADAAAABJAQAAUQAAAH0AAABCAAAAOAAAADMAAABaAAAAWAAAACsAAABYAAAALQAAAJoCAAA4AAAAVwAAAH0AAABIAAAA2gAAADcAAAAhAAAAeAAAADAAAAA4AAAAJAAAACsAAAApAAAATQAAAEsAAAA4AAAAGgAAAFIAAABlAAAAQAAAAFsAAABGAAAARQAAADAAAABCAAAAHgAAACwAAAAzAAAATwAAAEEAAAAwAAAARQAAADwAAAAwAAAAMAAAACcAAAA8AAAAJwAAAFEAAABpAAAALAAAACgAAAAxAAAAPQAAAGAAAAArAAAAPgAAADAAAAA5AAAAPAAAADoAAABQAAAAPwAAADAAAABGAAAABQAAADQAAAA6AAAAUAAAAAQAAAAoAAAAOQAAAF4AAAApAAAABAEAAEIAAABAAAAAMAAAAHoAAABHAAAAQwAAAE8AAAAsAAAANgAAAHIAAAAqAAAAJwAAAE4AAABFAAAAZAAAAC8AAABiAAAAWgAAADwAAABHAAAAKAAAAOoAAABIAAAAKgAAAD4AAABLAAAAPwAAAEIAAABoAAAAQwAAAFoAAABCAAAAPAAAAG0AAAAgAAAAPAAAACcAAAApAAAAOgAAAGgAAABpAAAANgAAABwAAAAjAAAAKAAAAEUAAABCAAAARgAAABwAAAA/AAAAPgAAAD4AAABIAAAAOAAAADMAAABOAAAAZQAAACoAAAAdAAAASwAAADEAAAA8AAAARgAAAMgAAAAuAAAAOQAAAFAAAAA2AAAAWQAAAFMAAABSAAAATQAAAC0AAABJAAAASQAAAGMAAAAuAAAALwAAADgAAABDAAAAQAAAACQAAABIAAAAOAAAAFQAAAAwAAAAZAAAADwAAADAAAAAKgAAAJQAAACuAAAAeAAAACQAAAAUAAAAQwAAAEkAAABZAAAALgAAAEgAAABIAAAAsAEAACQAAABUAAAANwAAAD8AAAAXAAAAaAAAAD0AAAC3AAAAfQAAAHQAAABBAAAAUQAAAEkAAABRAAAAmgIAADQAAAC0AAAAOgAAAFYAAABOAAAAVgAAAFQAAAAtAAAAGgAAAEAAAAA/AAAAawAAADkAAABpAAAAKwAAACMAAAAoAAAAVgAAAEMAAAA9AAAAPAAAAEgAAABqAAAAcAAAAB8AAABFAAAATAAAACcAAADAAAAAPgAAAC8AAABWAAAAPAAAAEQAAABBAAAAeAAAAC4AAABLAAAARQAAANwCAABEAAAAMAAAAB4AAABEAAAAJgAAADcAAAA/AAAAKAAAAGAAAACQAAAASgAAAEYAAABPAAAASgAAAJ4AAAAnAAAAcgAAAEsAAAAmAAAAQAAAAEsAAACaAgAAcAAAAEMAAAA+AAAAOwAAAEgAAAAfAAAAIwAAADAAAAA/AAAAMQAAACoAAABaAAAAWwAAAC4AAABgAAAAqQAAADEAAABuAAAANwAAAA==\"},\"shape\":[1969],\"dtype\":\"int32\",\"order\":\"little\"}],[\"y\",{\"type\":\"ndarray\",\"array\":{\"type\":\"bytes\",\"data\":\"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\"},\"shape\":[1969],\"dtype\":\"int32\",\"order\":\"little\"}]]}}},\"view\":{\"type\":\"object\",\"name\":\"CDSView\",\"id\":\"p1087\",\"attributes\":{\"filter\":{\"type\":\"object\",\"name\":\"AllIndices\",\"id\":\"p1088\"}}},\"glyph\":{\"type\":\"object\",\"name\":\"Circle\",\"id\":\"p1083\",\"attributes\":{\"x\":{\"type\":\"field\",\"field\":\"x\"},\"y\":{\"type\":\"field\",\"field\":\"y\"},\"line_color\":{\"type\":\"value\",\"value\":\"#1f77b4\"},\"fill_color\":{\"type\":\"value\",\"value\":\"#1f77b4\"}}},\"nonselection_glyph\":{\"type\":\"object\",\"name\":\"Circle\",\"id\":\"p1084\",\"attributes\":{\"x\":{\"type\":\"field\",\"field\":\"x\"},\"y\":{\"type\":\"field\",\"field\":\"y\"},\"line_color\":{\"type\":\"value\",\"value\":\"#1f77b4\"},\"line_alpha\":{\"type\":\"value\",\"value\":0.1},\"fill_color\":{\"type\":\"value\",\"value\":\"#1f77b4\"},\"fill_alpha\":{\"type\":\"value\",\"value\":0.1},\"hatch_alpha\":{\"type\":\"value\",\"value\":0.1}}},\"muted_glyph\":{\"type\":\"object\",\"name\":\"Circle\",\"id\":\"p1085\",\"attributes\":{\"x\":{\"type\":\"field\",\"field\":\"x\"},\"y\":{\"type\":\"field\",\"field\":\"y\"},\"line_color\":{\"type\":\"value\",\"value\":\"#1f77b4\"},\"line_alpha\":{\"type\":\"value\",\"value\":0.2},\"fill_color\":{\"type\":\"value\",\"value\":\"#1f77b4\"},\"fill_alpha\":{\"type\":\"value\",\"value\":0.2},\"hatch_alpha\":{\"type\":\"value\",\"value\":0.2}}}}},{\"type\":\"object\",\"name\":\"GlyphRenderer\",\"id\":\"p1095\",\"attributes\":{\"data_source\":{\"type\":\"object\",\"name\":\"ColumnDataSource\",\"id\":\"p1089\",\"attributes\":{\"selected\":{\"type\":\"object\",\"name\":\"Selection\",\"id\":\"p1090\",\"attributes\":{\"indices\":[],\"line_indices\":[]}},\"selection_policy\":{\"type\":\"object\",\"name\":\"UnionRenderers\",\"id\":\"p1091\"},\"data\":{\"type\":\"map\",\"entries\":[[\"x\",{\"type\":\"ndarray\",\"array\":{\"type\":\"bytes\",\"data\":\"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\"},\"shape\":[1969],\"dtype\":\"int32\",\"order\":\"little\"}],[\"y\",[139.14354661468167,143.14222280226494,123.9485771018652,133.14553233330673,134.74500280834005,138.34381137716503,145.54142851481492,138.34381137716503,167.13427992776462,148.3405018461232,127.94725328944848,375.8651769196118,133.54539995206508,128.74698852696514,122.74897424559022,135.94460566461504,148.74036946488155,223.51561417268886,149.14023708363987,131.54606185827345,375.8651769196118,128.34712090820682,133.14553233330673,163.53547135893967,130.34645900199845,156.33785422128977,131.94592947703177,121.94923900807356,142.3424875647483,135.1448704270984,180.32991134678946,127.14751805193183,133.14553233330673,126.34778281441517,375.8651769196118,375.8651769196118,134.74500280834005,121.94923900807356,138.74367899592335,151.93931041494815,146.34116375233157,130.74632662075678,158.73705993383973,165.134941833973,134.34513518958173,249.9068770107385,133.54539995206508,136.74434090213168,125.14817995814019,139.14354661468167,132.3457970957901,138.34381137716503,120.34976853304025,131.1461942395151,127.14751805193183,131.54606185827345,172.3325589716229,152.73904565246482,150.73970755867316,157.13758945880642,219.51693798510559,125.54804757689851,130.34645900199845,155.5381189837731,133.9452675708234,133.9452675708234,123.54870948310688,138.34381137716503,132.3457970957901,123.54870948310688,134.74500280834005,137.94394375840668,147.54076660860656,135.1448704270984,143.14222280226494,120.34976853304025,120.34976853304025,123.54870948310688,133.14553233330673,130.74632662075678,129.54672376448178,135.94460566461504,126.7476504331735,116.35109234545698,137.54407613964835,126.34778281441517,172.3325589716229,224.71521702896385,157.53745707756474,149.5401047023982,137.94394375840668,167.93401516528127,124.74831233938185,131.94592947703177,131.94592947703177,137.54407613964835,136.74434090213168,109.5533428265654,151.53944279618983,130.34645900199845,123.9485771018652,135.54473804585672,145.54142851481492,130.34645900199845,129.14685614572346,191.92607229078095,149.14023708363987,122.3491066268319,134.34513518958173,134.74500280834005,129.54672376448178,132.3457970957901,135.54473804585672,132.7456647145484,215.5182617975223,126.7476504331735,123.9485771018652,126.34778281441517,157.13758945880642,119.15016567676527,119.55003329552359,134.34513518958173,125.54804757689851,157.53745707756474,138.34381137716503,136.74434090213168,139.54341423344,213.11905608497233,133.54539995206508,134.74500280834005,129.94659138324013,135.1448704270984,125.94791519565685,136.74434090213168,140.34314947095666,151.1395751774315,148.74036946488155,129.94659138324013,145.54142851481492,138.34381137716503,137.94394375840668,138.74367899592335,210.71985037242237,139.54341423344,156.33785422128977,121.54937138931524,135.1448704270984,147.1408989898482,224.71521702896385,149.14023708363987,126.7476504331735,130.74632662075678,130.34645900199845,129.14685614572346,122.74897424559022,120.34976853304025,127.54738567069015,133.54539995206508,136.34447328337336,129.94659138324013,119.55003329552359,123.9485771018652,128.74698852696514,139.54341423344,163.53547135893967,155.5381189837731,140.34314947095666,129.14685614572346,158.3371923150814,131.94592947703177,160.73639802763137,135.1448704270984,122.74897424559022,172.3325589716229,131.54606185827345,133.54539995206508,133.54539995206508,156.33785422128977,143.54209042102326,129.94659138324013,133.14553233330673,164.73507421521464,134.34513518958173,128.74698852696514,130.34645900199845,130.34645900199845,159.93666279011472,129.14685614572346,162.33586850266468,126.7476504331735,127.54738567069015,131.1461942395151,137.54407613964835,157.53745707756474,139.54341423344,153.53878088998147,153.53878088998147,128.74698852696514,124.74831233938185,171.53282373410622,180.72977896554778,124.34844472062353,135.1448704270984,164.33520659645632,129.94659138324013,133.9452675708234,137.94394375840668,123.9485771018652,133.14553233330673,128.74698852696514,127.14751805193183,137.54407613964835,135.1448704270984,166.33454469024798,136.34447328337336,140.74301708971498,125.94791519565685,129.54672376448178,140.74301708971498,118.35043043924861,159.13692755259805,128.34712090820682,129.94659138324013,132.7456647145484,142.3424875647483,153.13891327122315,127.14751805193183,148.3405018461232,161.1362656463897,164.73507421521464,158.73705993383973,122.74897424559022,138.34381137716503,143.54209042102326,124.74831233938185,124.34844472062353,133.9452675708234,129.94659138324013,139.54341423344,124.34844472062353,375.8651769196118,134.34513518958173,128.34712090820682,121.54937138931524,137.94394375840668,132.3457970957901,130.74632662075678,123.9485771018652,143.14222280226494,138.74367899592335,127.54738567069015,150.33983993991484,125.54804757689851,130.34645900199845,133.54539995206508,143.54209042102326,138.74367899592335,135.1448704270984,127.94725328944848,135.94460566461504,127.94725328944848,121.1495037705569,130.74632662075678,158.3371923150814,143.9419580397816,149.14023708363987,139.54341423344,143.54209042102326,149.14023708363987,152.3391780337065,128.74698852696514,124.74831233938185,134.34513518958173,139.9432818521983,133.14553233330673,139.9432818521983,138.34381137716503,131.54606185827345,138.74367899592335,129.54672376448178,123.9485771018652,121.94923900807356,147.94063422736488,150.73970755867316,123.14884186434855,127.54738567069015,129.94659138324013,128.74698852696514,129.94659138324013,133.54539995206508,131.1461942395151,135.94460566461504,133.9452675708234,154.73838374625646,129.94659138324013,128.74698852696514,144.74169327729825,143.54209042102326,137.94394375840668,131.54606185827345,131.54606185827345,137.14420852089003,128.34712090820682,125.54804757689851,156.7377218400481,137.94394375840668,135.1448704270984,122.74897424559022,130.74632662075678,142.3424875647483,135.1448704270984,130.74632662075678,166.7344123090063,133.9452675708234,173.13229420913953,143.54209042102326,129.54672376448178,143.54209042102326,129.94659138324013,127.54738567069015,141.94261994598997,126.7476504331735,133.54539995206508,128.74698852696514,165.93467707148963,153.53878088998147,119.94990091428193,123.9485771018652,129.54672376448178,144.74169327729825,138.34381137716503,123.9485771018652,133.54539995206508,181.52951420306442,131.1461942395151,141.94261994598997,127.54738567069015,135.1448704270984,123.9485771018652,145.14156089605657,152.73904565246482,126.7476504331735,131.1461942395151,152.3391780337065,163.53547135893967,140.74301708971498,131.94592947703177,141.54275232723163,147.1408989898482,137.14420852089003,149.14023708363987,135.54473804585672,146.34116375233157,145.94129613357325,145.94129613357325,128.74698852696514,139.14354661468167,127.14751805193183,155.5381189837731,126.7476504331735,129.94659138324013,131.1461942395151,169.93335325907293,144.74169327729825,133.54539995206508,142.3424875647483,121.94923900807356,246.30806844191355,137.54407613964835,131.1461942395151,131.1461942395151,135.54473804585672,145.14156089605657,138.34381137716503,122.3491066268319,134.74500280834005,149.14023708363987,123.14884186434855,135.1448704270984,149.5401047023982,134.74500280834005,132.7456647145484,128.34712090820682,127.14751805193183,146.34116375233157,145.14156089605657,131.54606185827345,167.13427992776462,121.94923900807356,127.94725328944848,129.14685614572346,133.54539995206508,198.72382180967253,143.14222280226494,219.51693798510559,139.14354661468167,120.34976853304025,135.54473804585672,126.7476504331735,142.74235518350662,136.34447328337336,143.14222280226494,154.3385161274981,121.54937138931524,128.34712090820682,135.1448704270984,126.7476504331735,143.14222280226494,145.54142851481492,137.54407613964835,142.3424875647483,375.8651769196118,143.54209042102326,132.7456647145484,147.1408989898482,159.5367951713564,153.53878088998147,131.1461942395151,137.94394375840668,149.5401047023982,154.73838374625646,457.43817114631065,141.54275232723163,129.54672376448178,158.3371923150814,123.54870948310688,130.34645900199845,121.1495037705569,189.52686657823097,128.74698852696514,173.53216182789788,158.3371923150814,143.9419580397816,146.7410313710899,145.94129613357325,140.34314947095666,127.14751805193183,139.54341423344,129.54672376448178,149.93997232115652,123.54870948310688,221.51627607889722,135.94460566461504,130.74632662075678,178.3305732529978,170.33322087783125,211.51958560993904,131.54606185827345,125.94791519565685,131.94592947703177,152.73904565246482,127.14751805193183,163.53547135893967,135.1448704270984,134.34513518958173,127.14751805193183,124.34844472062353,150.33983993991484,124.34844472062353,125.54804757689851,126.7476504331735,206.32130656608075,129.94659138324013,134.74500280834005,133.54539995206508,128.74698852696514,157.53745707756474,135.94460566461504,145.54142851481492,129.14685614572346,122.74897424559022,129.94659138324013,139.54341423344,375.8651769196118,125.94791519565685,174.33189706541452,147.1408989898482,125.14817995814019,143.54209042102326,135.1448704270984,157.53745707756474,131.54606185827345,140.34314947095666,142.3424875647483,186.32792562816437,136.74434090213168,127.94725328944848,365.86848645065356,142.74235518350662,143.9419580397816,135.54473804585672,136.34447328337336,145.54142851481492,163.53547135893967,128.74698852696514,150.73970755867316,142.74235518350662,134.74500280834005,132.7456647145484,132.3457970957901,165.93467707148963,134.34513518958173,124.34844472062353,152.3391780337065,143.14222280226494,137.54407613964835,120.74963615179858,131.94592947703177,137.14420852089003,167.13427992776462,123.9485771018652,165.5348094527313,136.74434090213168,133.14553233330673,128.74698852696514,152.3391780337065,127.14751805193183,143.9419580397816,215.118394178764,142.74235518350662,139.54341423344,139.9432818521983,123.14884186434855,153.53878088998147,131.94592947703177,138.34381137716503,130.74632662075678,125.14817995814019,269.50039032989656,123.14884186434855,131.1461942395151,135.94460566461504,160.33653040887305,138.34381137716503,120.34976853304025,155.13825136501478,129.94659138324013,147.54076660860656,133.9452675708234,128.34712090820682,126.34778281441517,134.74500280834005,121.54937138931524,139.14354661468167,157.53745707756474,129.14685614572346,131.94592947703177,133.9452675708234,123.54870948310688,125.14817995814019,137.54407613964835,133.54539995206508,127.94725328944848,126.7476504331735,147.94063422736488,125.54804757689851,149.14023708363987,130.34645900199845,123.14884186434855,131.1461942395151,131.1461942395151,158.3371923150814,136.34447328337336,137.14420852089003,154.73838374625646,137.54407613964835,142.3424875647483,138.34381137716503,149.93997232115652,131.54606185827345,137.54407613964835,120.34976853304025,147.94063422736488,126.7476504331735,162.33586850266468,141.54275232723163,130.34645900199845,357.871134075487,128.34712090820682,129.14685614572346,129.14685614572346,125.94791519565685,124.74831233938185,139.9432818521983,134.34513518958173,125.94791519565685,163.935338977698,125.94791519565685,133.9452675708234,125.14817995814019,126.7476504331735,152.3391780337065,159.5367951713564,149.5401047023982,137.54407613964835,119.94990091428193,118.75029805800693,131.1461942395151,135.54473804585672,121.54937138931524,128.34712090820682,128.34712090820682,190.32660181574764,132.3457970957901,144.74169327729825,129.94659138324013,155.93798660253145,124.34844472062353,127.54738567069015,133.14553233330673,129.94659138324013,137.54407613964835,124.34844472062353,121.54937138931524,135.94460566461504,134.34513518958173,123.54870948310688,121.54937138931524,124.74831233938185,129.54672376448178,137.14420852089003,127.14751805193183,147.94063422736488,123.14884186434855,175.13163230293117,143.14222280226494,139.54341423344,131.54606185827345,200.72315990346416,197.52421895339756,128.74698852696514,128.74698852696514,119.94990091428193,137.14420852089003,131.1461942395151,138.34381137716503,130.34645900199845,143.54209042102326,143.9419580397816,143.14222280226494,125.54804757689851,139.14354661468167,133.14553233330673,152.3391780337065,133.14553233330673,140.34314947095666,169.53348564031458,162.33586850266468,140.74301708971498,127.14751805193183,133.54539995206508,375.8651769196118,131.94592947703177,140.74301708971498,145.54142851481492,129.54672376448178,137.14420852089003,167.53414754652295,123.14884186434855,124.74831233938185,131.54606185827345,131.94592947703177,143.14222280226494,136.74434090213168,157.53745707756474,134.34513518958173,138.74367899592335,123.9485771018652,133.14553233330673,155.93798660253145,138.74367899592335,126.7476504331735,130.34645900199845,137.14420852089003,163.53547135893967,125.94791519565685,140.74301708971498,141.54275232723163,167.53414754652295,131.54606185827345,151.93931041494815,203.12236561601412,128.34712090820682,130.74632662075678,125.14817995814019,120.74963615179858,133.54539995206508,140.34314947095666,139.14354661468167,121.1495037705569,135.94460566461504,248.70727415446353,125.94791519565685,133.54539995206508,147.94063422736488,117.95056282049029,141.94261994598997,157.53745707756474,157.53745707756474,138.74367899592335,131.94592947703177,130.74632662075678,136.34447328337336,146.7410313710899,128.74698852696514,136.74434090213168,137.54407613964835,121.1495037705569,131.54606185827345,138.34381137716503,132.7456647145484,125.54804757689851,118.75029805800693,127.14751805193183,129.14685614572346,141.1428847084733,135.94460566461504,129.54672376448178,132.7456647145484,127.14751805193183,223.51561417268886,173.13229420913953,152.73904565246482,154.73838374625646,141.54275232723163,126.7476504331735,375.8651769196118,128.74698852696514,155.5381189837731,129.94659138324013,258.3040970046634,136.74434090213168,131.1461942395151,137.14420852089003,137.14420852089003,133.54539995206508,157.53745707756474,161.93600088390636,181.52951420306442,150.73970755867316,143.54209042102326,133.14553233330673,132.3457970957901,133.54539995206508,132.3457970957901,135.54473804585672,139.9432818521983,133.14553233330673,147.54076660860656,148.3405018461232,140.34314947095666,129.14685614572346,138.74367899592335,131.54606185827345,128.34712090820682,137.94394375840668,127.54738567069015,137.14420852089003,125.54804757689851,277.49774270506316,175.13163230293117,127.94725328944848,146.7410313710899,149.5401047023982,130.34645900199845,133.9452675708234,143.54209042102326,125.94791519565685,129.54672376448178,133.14553233330673,172.3325589716229,128.74698852696514,131.94592947703177,137.14420852089003,139.14354661468167,126.34778281441517,144.74169327729825,127.54738567069015,263.10250842976336,125.54804757689851,133.54539995206508,161.93600088390636,133.14553233330673,165.134941833973,167.13427992776462,143.14222280226494,123.9485771018652,127.94725328944848,136.74434090213168,132.7456647145484,141.54275232723163,171.93269135286457,161.53613326514804,151.1395751774315,125.94791519565685,141.94261994598997,142.3424875647483,143.14222280226494,147.94063422736488,141.54275232723163,129.54672376448178,156.33785422128977,165.134941833973,169.53348564031458,375.8651769196118,135.54473804585672,141.1428847084733,129.14685614572346,134.74500280834005,137.94394375840668,147.54076660860656,129.14685614572346,123.54870948310688,134.74500280834005,145.14156089605657,126.34778281441517,136.34447328337336,150.33983993991484,128.74698852696514,122.74897424559022,145.54142851481492,125.54804757689851,125.14817995814019,132.3457970957901,133.9452675708234,147.94063422736488,128.74698852696514,160.33653040887305,133.54539995206508,151.93931041494815,187.52752848443936,161.53613326514804,124.34844472062353,145.14156089605657,147.1408989898482,133.54539995206508,162.33586850266468,139.14354661468167,143.14222280226494,129.94659138324013,134.74500280834005,132.7456647145484,157.53745707756474,129.14685614572346,126.7476504331735,189.92673419698932,131.54606185827345,126.34778281441517,155.5381189837731,137.14420852089003,121.54937138931524,161.1362656463897,127.14751805193183,145.54142851481492,129.94659138324013,136.34447328337336,121.54937138931524,143.9419580397816,134.34513518958173,135.54473804585672,239.11045130426365,145.94129613357325,131.54606185827345,139.14354661468167,145.14156089605657,126.7476504331735,126.34778281441517,141.54275232723163,138.74367899592335,125.94791519565685,131.54606185827345,155.5381189837731,152.73904565246482,126.7476504331735,124.34844472062353,134.74500280834005,143.54209042102326,163.13560374018135,131.94592947703177,227.51429036027213,132.7456647145484,130.74632662075678,127.54738567069015,122.74897424559022,191.1263370532643,124.34844472062353,131.54606185827345,137.94394375840668,122.3491066268319,144.34182565853993,127.54738567069015,194.72514562208926,123.9485771018652,179.5301761092728,129.14685614572346,136.34447328337336,138.34381137716503,122.74897424559022,119.94990091428193,143.9419580397816,132.3457970957901,125.54804757689851,133.54539995206508,126.34778281441517,132.7456647145484,151.53944279618983,132.3457970957901,136.34447328337336,213.91879132248897,120.34976853304025,139.54341423344,129.94659138324013,131.94592947703177,130.74632662075678,147.94063422736488,151.93931041494815,138.34381137716503,129.54672376448178,133.14553233330673,124.74831233938185,119.55003329552359,155.13825136501478,135.94460566461504,137.94394375840668,129.14685614572346,141.1428847084733,132.3457970957901,209.52024751614738,127.94725328944848,135.94460566461504,117.15082758297363,135.54473804585672,121.1495037705569,137.14420852089003,145.14156089605657,136.74434090213168,131.94592947703177,128.74698852696514,210.31998275366402,142.3424875647483,131.94592947703177,138.34381137716503,134.34513518958173,155.5381189837731,122.3491066268319,126.7476504331735,135.54473804585672,131.1461942395151,153.53878088998147,133.54539995206508,125.54804757689851,132.7456647145484,124.34844472062353,128.34712090820682,127.14751805193183,150.73970755867316,128.74698852696514,169.53348564031458,375.8651769196118,131.1461942395151,133.54539995206508,134.74500280834005,143.14222280226494,125.94791519565685,140.74301708971498,136.74434090213168,145.94129613357325,141.54275232723163,123.14884186434855,127.94725328944848,136.74434090213168,142.74235518350662,151.53944279618983,128.74698852696514,121.54937138931524,118.35043043924861,130.74632662075678,130.74632662075678,135.54473804585672,130.34645900199845,128.74698852696514,205.5215713285641,234.3120398791637,153.53878088998147,157.53745707756474,147.54076660860656,137.14420852089003,123.9485771018652,131.94592947703177,135.1448704270984,145.94129613357325,121.54937138931524,137.14420852089003,136.74434090213168,122.3491066268319,130.34645900199845,155.93798660253145,157.53745707756474,129.94659138324013,160.33653040887305,123.9485771018652,133.9452675708234,183.12898467809774,141.1428847084733,229.5136284540638,179.13030849051447,129.54672376448178,129.14685614572346,123.54870948310688,131.94592947703177,159.5367951713564,163.53547135893967,144.34182565853993,130.34645900199845,157.53745707756474,135.54473804585672,132.3457970957901,121.1495037705569,163.935338977698,138.34381137716503,127.54738567069015,128.74698852696514,123.54870948310688,124.74831233938185,129.94659138324013,132.7456647145484,148.74036946488155,126.34778281441517,145.54142851481492,161.93600088390636,126.34778281441517,139.54341423344,131.94592947703177,131.1461942395151,157.53745707756474,131.54606185827345,123.54870948310688,131.1461942395151,134.34513518958173,139.14354661468167,153.53878088998147,172.3325589716229,165.93467707148963,166.7344123090063,125.14817995814019,137.94394375840668,129.94659138324013,138.34381137716503,128.74698852696514,181.52951420306442,131.94592947703177,193.9254103845726,133.14553233330673,140.34314947095666,131.94592947703177,129.14685614572346,128.74698852696514,138.34381137716503,140.34314947095666,129.94659138324013,170.73308849658957,140.74301708971498,152.73904565246482,132.3457970957901,143.9419580397816,147.94063422736488,137.94394375840668,149.93997232115652,152.3391780337065,121.1495037705569,121.54937138931524,131.1461942395151,158.3371923150814,128.74698852696514,135.54473804585672,182.32924944058107,153.53878088998147,149.5401047023982,126.7476504331735,137.14420852089003,123.54870948310688,122.3491066268319,123.14884186434855,427.8479673581944,125.54804757689851,165.134941833973,130.34645900199845,151.1395751774315,153.53878088998147,125.94791519565685,141.1428847084733,131.54606185827345,137.94394375840668,132.7456647145484,143.54209042102326,118.35043043924861,129.14685614572346,130.34645900199845,120.74963615179858,135.94460566461504,375.8651769196118,137.14420852089003,127.54738567069015,142.3424875647483,117.95056282049029,133.54539995206508,167.13427992776462,145.94129613357325,124.74831233938185,145.14156089605657,137.94394375840668,133.14553233330673,126.7476504331735,128.74698852696514,176.33123515920616,117.95056282049029,129.94659138324013,151.53944279618983,128.34712090820682,161.93600088390636,152.3391780337065,149.93997232115652,172.7324265903812,132.3457970957901,136.34447328337336,122.74897424559022,127.94725328944848,129.14685614572346,131.94592947703177,149.5401047023982,129.54672376448178,164.73507421521464,143.14222280226494,138.34381137716503,130.74632662075678,158.73705993383973,129.54672376448178,140.34314947095666,155.93798660253145,151.53944279618983,131.94592947703177,138.74367899592335,149.93997232115652,132.7456647145484,137.54407613964835,125.94791519565685,124.34844472062353,126.7476504331735,136.34447328337336,120.34976853304025,146.7410313710899,147.54076660860656,151.1395751774315,137.54407613964835,135.54473804585672,133.14553233330673,135.54473804585672,143.54209042102326,138.34381137716503,143.14222280226494,138.34381137716503,141.94261994598997,142.3424875647483,139.14354661468167,130.34645900199845,127.14751805193183,129.14685614572346,131.1461942395151,134.34513518958173,121.54937138931524,131.94592947703177,136.74434090213168,131.54606185827345,229.5136284540638,143.14222280226494,127.14751805193183,185.12832277188937,141.54275232723163,148.74036946488155,134.74500280834005,131.1461942395151,125.94791519565685,126.7476504331735,184.72845515313105,203.12236561601412,134.34513518958173,132.3457970957901,131.94592947703177,136.34447328337336,125.94791519565685,137.94394375840668,129.94659138324013,135.54473804585672,375.8651769196118,130.34645900199845,157.53745707756474,133.9452675708234,136.34447328337336,134.74500280834005,170.73308849658957,123.54870948310688,219.9168056038639,144.34182565853993,143.9419580397816,129.54672376448178,129.94659138324013,124.34844472062353,135.54473804585672,137.54407613964835,131.1461942395151,125.14817995814019,157.53745707756474,120.74963615179858,138.34381137716503,121.1495037705569,135.94460566461504,143.9419580397816,121.54937138931524,131.54606185827345,127.14751805193183,125.14817995814019,127.54738567069015,136.74434090213168,163.935338977698,124.74831233938185,139.14354661468167,132.3457970957901,123.54870948310688,155.5381189837731,133.14553233330673,140.74301708971498,141.54275232723163,131.1461942395151,123.14884186434855,133.9452675708234,133.9452675708234,123.54870948310688,167.93401516528127,375.8651769196118,121.94923900807356,135.1448704270984,132.3457970957901,128.74698852696514,125.94791519565685,155.5381189837731,138.34381137716503,129.94659138324013,126.7476504331735,131.1461942395151,125.14817995814019,181.1296465843061,129.14685614572346,144.34182565853993,126.7476504331735,128.74698852696514,147.54076660860656,139.14354661468167,131.1461942395151,137.94394375840668,124.74831233938185,135.54473804585672,133.54539995206508,138.74367899592335,131.1461942395151,119.55003329552359,125.54804757689851,136.34447328337336,123.9485771018652,134.34513518958173,123.9485771018652,141.1428847084733,133.54539995206508,149.93997232115652,129.94659138324013,153.53878088998147,132.3457970957901,121.1495037705569,124.74831233938185,123.9485771018652,220.31667322262223,147.54076660860656,375.8651769196118,119.15016567676527,145.14156089605657,137.94394375840668,133.9452675708234,127.14751805193183,131.54606185827345,122.74897424559022,128.74698852696514,131.1461942395151,146.7410313710899,146.34116375233157,128.74698852696514,145.54142851481492,135.1448704270984,120.34976853304025,149.5401047023982,128.74698852696514,498.2246682596601,128.34712090820682,129.14685614572346,125.54804757689851,146.34116375233157,135.54473804585672,139.14354661468167,174.73176468417284,210.31998275366402,126.7476504331735,173.53216182789788,138.74367899592335,130.34645900199845,121.94923900807356,127.94725328944848,129.94659138324013,127.94725328944848,133.9452675708234,129.54672376448178,147.94063422736488,123.9485771018652,191.1263370532643,129.14685614572346,148.3405018461232,121.94923900807356,118.35043043924861,173.9320294466562,130.34645900199845,127.94725328944848,129.54672376448178,131.94592947703177,137.54407613964835,125.54804757689851,152.3391780337065,127.54738567069015,125.14817995814019,131.54606185827345,120.34976853304025,135.94460566461504,145.14156089605657,120.74963615179858,143.9419580397816,126.7476504331735,157.53745707756474,126.34778281441517,130.34645900199845,152.73904565246482,191.52620467202263,140.74301708971498,143.14222280226494,131.54606185827345,139.54341423344,131.1461942395151,122.74897424559022,143.54209042102326,135.54473804585672,135.54473804585672,123.9485771018652,128.74698852696514,123.54870948310688,150.73970755867316,133.54539995206508,140.74301708971498,123.54870948310688,125.54804757689851,128.74698852696514,127.14751805193183,133.54539995206508,127.94725328944848,176.7311027779645,132.3457970957901,137.54407613964835,128.74698852696514,123.14884186434855,135.1448704270984,133.14553233330673,133.54539995206508,137.54407613964835,141.54275232723163,133.54539995206508,127.94725328944848,181.52951420306442,127.94725328944848,124.74831233938185,145.94129613357325,113.55201901414868,132.3457970957901,133.54539995206508,160.73639802763137,143.9419580397816,151.53944279618983,156.33785422128977,138.74367899592335,132.3457970957901,141.94261994598997,147.1408989898482,140.34314947095666,140.74301708971498,128.34712090820682,135.54473804585672,141.54275232723163,375.8651769196118,131.1461942395151,133.54539995206508,133.54539995206508,136.74434090213168,184.32858753437273,129.54672376448178,131.54606185827345,169.53348564031458,128.34712090820682,132.3457970957901,133.14553233330673,129.14685614572346,300.2901969742878,199.9234246659475,131.94592947703177,133.14553233330673,134.74500280834005,126.7476504331735,126.34778281441517,129.14685614572346,130.34645900199845,137.14420852089003,134.74500280834005,133.9452675708234,130.34645900199845,145.14156089605657,128.74698852696514,141.54275232723163,133.54539995206508,132.3457970957901,137.54407613964835,120.74963615179858,137.54407613964835,143.54209042102326,133.54539995206508,126.7476504331735,135.54473804585672,135.54473804585672,137.94394375840668,129.94659138324013,150.33983993991484,149.5401047023982,135.94460566461504,140.34314947095666,143.9419580397816,188.72713134071432,149.93997232115652,139.54341423344,156.7377218400481,149.14023708363987,137.14420852089003,123.14884186434855,128.74698852696514,149.93997232115652,134.74500280834005,151.1395751774315,130.34645900199845,128.34712090820682,139.14354661468167,125.14817995814019,147.94063422736488,147.1408989898482,144.34182565853993,130.74632662075678,142.74235518350662,217.51759989131392,145.54142851481492,134.34513518958173,135.94460566461504,132.7456647145484,126.7476504331735,135.1448704270984,127.54738567069015,129.14685614572346,138.34381137716503,138.74367899592335,127.14751805193183,119.15016567676527,146.34116375233157,127.54738567069015,189.92673419698932,124.74831233938185,138.34381137716503,133.14553233330673,130.34645900199845,161.53613326514804,141.1428847084733,128.34712090820682,161.53613326514804,127.54738567069015,154.3385161274981,136.74434090213168,189.12699895947264,237.91084844798866,125.94791519565685,133.9452675708234,128.74698852696514,137.54407613964835,131.94592947703177,134.34513518958173,121.94923900807356,121.54937138931524,129.94659138324013,158.3371923150814,168.3338827840396,138.34381137716503,188.72713134071432,135.1448704270984,149.93997232115652,132.3457970957901,205.5215713285641,167.53414754652295,126.34778281441517,130.34645900199845,122.74897424559022,124.34844472062353,131.54606185827345,129.54672376448178,140.34314947095666,139.54341423344,161.53613326514804,140.74301708971498,149.5401047023982,131.94592947703177,123.9485771018652,139.54341423344,157.53745707756474,121.54937138931524,129.94659138324013,136.74434090213168,143.54209042102326,135.54473804585672,249.50700939198018,375.8651769196118,141.54275232723163,121.54937138931524,138.34381137716503,127.94725328944848,130.34645900199845,139.54341423344,133.54539995206508,140.74301708971498,128.74698852696514,131.54606185827345,124.34844472062353,137.94394375840668,143.14222280226494,155.13825136501478,139.14354661468167,213.51892370373065,127.14751805193183,169.93335325907293,131.94592947703177,136.34447328337336,145.14156089605657,140.34314947095666,145.14156089605657,143.9419580397816,139.54341423344,129.94659138324013,133.14553233330673,117.15082758297363,137.54407613964835,139.9432818521983,137.14420852089003,130.74632662075678,129.14685614572346,145.54142851481492,152.73904565246482,125.94791519565685,129.54672376448178,134.74500280834005,168.3338827840396,128.74698852696514,131.1461942395151,134.34513518958173,138.34381137716503,167.13427992776462,137.14420852089003,123.9485771018652,135.54473804585672,159.93666279011472,130.34645900199845,138.34381137716503,125.14817995814019,125.54804757689851,139.54341423344,133.54539995206508,130.74632662075678,375.8651769196118,281.4964188926464,122.3491066268319,135.1448704270984,157.53745707756474,135.54473804585672,148.74036946488155,134.34513518958173,136.34447328337336,137.94394375840668,153.9386485087398,147.54076660860656,133.9452675708234,241.5096570168136,126.7476504331735,135.94460566461504,138.34381137716503,126.7476504331735,129.94659138324013,127.94725328944848,131.1461942395151,119.15016567676527,139.9432818521983,114.75162187042366,127.54738567069015,151.53944279618983,132.3457970957901,143.9419580397816,128.74698852696514,148.3405018461232,129.54672376448178,126.7476504331735,135.1448704270984,145.54142851481492,131.54606185827345,135.54473804585672,127.94725328944848,151.93931041494815,125.94791519565685,135.1448704270984,139.54341423344,155.13825136501478,140.74301708971498,181.52951420306442,131.94592947703177,133.54539995206508,122.3491066268319,135.1448704270984,142.74235518350662,131.1461942395151,166.7344123090063,267.9009198548632,128.34712090820682,130.34645900199845,130.34645900199845,130.74632662075678,138.34381137716503,137.94394375840668,120.34976853304025,129.54672376448178,131.54606185827345,149.14023708363987,141.54275232723163,138.34381137716503,136.34447328337336,129.14685614572346,134.74500280834005,133.54539995206508,177.53083801548115,130.34645900199845,130.74632662075678,123.14884186434855,141.1428847084733,124.34844472062353,133.14553233330673,130.34645900199845,129.94659138324013,133.9452675708234,128.74698852696514,121.54937138931524,131.54606185827345,143.54209042102326,182.32924944058107,139.54341423344,189.92673419698932,134.74500280834005,141.94261994598997,127.54738567069015,187.12766086568104,131.54606185827345,132.7456647145484,127.14751805193183,133.54539995206508,132.3457970957901,130.74632662075678,141.94261994598997,162.33586850266468,136.34447328337336,132.7456647145484,133.14553233330673,124.74831233938185,127.94725328944848,133.9452675708234,128.74698852696514,241.10978939805528,141.94261994598997,159.5367951713564,135.94460566461504,131.94592947703177,129.94659138324013,145.54142851481492,144.74169327729825,126.7476504331735,144.74169327729825,127.54738567069015,375.8651769196118,131.94592947703177,144.34182565853993,159.5367951713564,138.34381137716503,196.7244837158809,131.54606185827345,122.74897424559022,157.53745707756474,128.74698852696514,131.94592947703177,123.9485771018652,126.7476504331735,125.94791519565685,140.34314947095666,139.54341423344,131.94592947703177,119.94990091428193,142.3424875647483,149.93997232115652,135.1448704270984,145.94129613357325,137.54407613964835,137.14420852089003,128.74698852696514,135.94460566461504,121.54937138931524,127.14751805193183,129.94659138324013,141.1428847084733,135.54473804585672,128.74698852696514,137.14420852089003,133.54539995206508,128.74698852696514,128.74698852696514,125.14817995814019,133.54539995206508,125.14817995814019,141.94261994598997,151.53944279618983,127.14751805193183,125.54804757689851,129.14685614572346,133.9452675708234,147.94063422736488,126.7476504331735,134.34513518958173,128.74698852696514,132.3457970957901,133.54539995206508,132.7456647145484,141.54275232723163,134.74500280834005,128.74698852696514,137.54407613964835,111.55268092035703,130.34645900199845,132.7456647145484,141.54275232723163,111.15281330159871,125.54804757689851,132.3457970957901,147.1408989898482,125.94791519565685,213.51892370373065,135.94460566461504,135.1448704270984,128.74698852696514,158.3371923150814,137.94394375840668,136.34447328337336,141.1428847084733,127.14751805193183,131.1461942395151,155.13825136501478,126.34778281441517,125.14817995814019,140.74301708971498,137.14420852089003,149.5401047023982,128.34712090820682,148.74036946488155,145.54142851481492,133.54539995206508,137.94394375840668,125.54804757689851,203.12236561601412,138.34381137716503,126.34778281441517,134.34513518958173,139.54341423344,134.74500280834005,135.94460566461504,151.1395751774315,136.34447328337336,145.54142851481492,135.94460566461504,133.54539995206508,153.13891327122315,122.3491066268319,133.54539995206508,125.14817995814019,125.94791519565685,132.7456647145484,151.1395751774315,151.53944279618983,131.1461942395151,120.74963615179858,123.54870948310688,125.54804757689851,137.14420852089003,135.94460566461504,137.54407613964835,120.74963615179858,134.74500280834005,134.34513518958173,134.34513518958173,138.34381137716503,131.94592947703177,129.94659138324013,140.74301708971498,149.93997232115652,126.34778281441517,121.1495037705569,139.54341423344,129.14685614572346,133.54539995206508,137.54407613964835,189.52686657823097,127.94725328944848,132.3457970957901,141.54275232723163,131.1461942395151,145.14156089605657,142.74235518350662,142.3424875647483,140.34314947095666,127.54738567069015,138.74367899592335,138.74367899592335,149.14023708363987,127.94725328944848,128.34712090820682,131.94592947703177,136.34447328337336,135.1448704270984,123.9485771018652,138.34381137716503,131.94592947703177,143.14222280226494,128.74698852696514,149.5401047023982,133.54539995206508,186.32792562816437,126.34778281441517,168.73375040279794,179.13030849051447,157.53745707756474,123.9485771018652,117.55069520173195,136.34447328337336,138.74367899592335,145.14156089605657,127.94725328944848,138.34381137716503,138.34381137716503,282.2961541301631,123.9485771018652,143.14222280226494,131.54606185827345,134.74500280834005,118.75029805800693,151.1395751774315,133.9452675708234,182.72911705933942,159.5367951713564,155.93798660253145,135.54473804585672,141.94261994598997,138.74367899592335,141.94261994598997,375.8651769196118,130.34645900199845,181.52951420306442,132.7456647145484,143.9419580397816,140.74301708971498,143.9419580397816,143.14222280226494,127.54738567069015,119.94990091428193,135.1448704270984,134.74500280834005,152.3391780337065,132.3457970957901,151.53944279618983,126.7476504331735,123.54870948310688,125.54804757689851,143.9419580397816,136.34447328337336,133.9452675708234,133.54539995206508,138.34381137716503,151.93931041494815,154.3385161274981,121.94923900807356,137.14420852089003,139.9432818521983,125.14817995814019,186.32792562816437,134.34513518958173,128.34712090820682,143.9419580397816,133.54539995206508,136.74434090213168,135.54473804585672,157.53745707756474,127.94725328944848,139.54341423344,137.14420852089003,402.2564397576615,136.74434090213168,128.74698852696514,121.54937138931524,136.74434090213168,124.74831233938185,131.54606185827345,134.74500280834005,125.54804757689851,147.94063422736488,167.13427992776462,139.14354661468167,137.54407613964835,141.1428847084733,139.14354661468167,172.7324265903812,125.14817995814019,155.13825136501478,139.54341423344,124.74831233938185,135.1448704270984,139.54341423344,375.8651769196118,154.3385161274981,136.34447328337336,134.34513518958173,133.14553233330673,138.34381137716503,121.94923900807356,123.54870948310688,128.74698852696514,134.74500280834005,129.14685614572346,126.34778281441517,145.54142851481492,145.94129613357325,127.94725328944848,147.94063422736488,177.13097039672283,129.14685614572346,153.53878088998147,131.54606185827345]]]}}},\"view\":{\"type\":\"object\",\"name\":\"CDSView\",\"id\":\"p1096\",\"attributes\":{\"filter\":{\"type\":\"object\",\"name\":\"AllIndices\",\"id\":\"p1097\"}}},\"glyph\":{\"type\":\"object\",\"name\":\"Line\",\"id\":\"p1092\",\"attributes\":{\"x\":{\"type\":\"field\",\"field\":\"x\"},\"y\":{\"type\":\"field\",\"field\":\"y\"},\"line_color\":\"red\"}},\"nonselection_glyph\":{\"type\":\"object\",\"name\":\"Line\",\"id\":\"p1093\",\"attributes\":{\"x\":{\"type\":\"field\",\"field\":\"x\"},\"y\":{\"type\":\"field\",\"field\":\"y\"},\"line_color\":\"red\",\"line_alpha\":0.1}},\"muted_glyph\":{\"type\":\"object\",\"name\":\"Line\",\"id\":\"p1094\",\"attributes\":{\"x\":{\"type\":\"field\",\"field\":\"x\"},\"y\":{\"type\":\"field\",\"field\":\"y\"},\"line_color\":\"red\",\"line_alpha\":0.2}}}}],\"toolbar\":{\"type\":\"object\",\"name\":\"Toolbar\",\"id\":\"p1054\",\"attributes\":{\"tools\":[{\"type\":\"object\",\"name\":\"PanTool\",\"id\":\"p1067\"},{\"type\":\"object\",\"name\":\"WheelZoomTool\",\"id\":\"p1068\",\"attributes\":{\"renderers\":\"auto\"}},{\"type\":\"object\",\"name\":\"BoxZoomTool\",\"id\":\"p1069\",\"attributes\":{\"overlay\":{\"type\":\"object\",\"name\":\"BoxAnnotation\",\"id\":\"p1070\",\"attributes\":{\"syncable\":false,\"line_color\":\"black\",\"line_alpha\":1.0,\"line_width\":2,\"line_dash\":[4,4],\"fill_color\":\"lightgrey\",\"fill_alpha\":0.5,\"level\":\"overlay\",\"visible\":false,\"left\":{\"type\":\"number\",\"value\":\"nan\"},\"right\":{\"type\":\"number\",\"value\":\"nan\"},\"top\":{\"type\":\"number\",\"value\":\"nan\"},\"bottom\":{\"type\":\"number\",\"value\":\"nan\"},\"left_units\":\"canvas\",\"right_units\":\"canvas\",\"top_units\":\"canvas\",\"bottom_units\":\"canvas\",\"handles\":{\"type\":\"object\",\"name\":\"BoxInteractionHandles\",\"id\":\"p1076\",\"attributes\":{\"all\":{\"type\":\"object\",\"name\":\"AreaVisuals\",\"id\":\"p1075\",\"attributes\":{\"fill_color\":\"white\",\"hover_fill_color\":\"lightgray\"}}}}}}}},{\"type\":\"object\",\"name\":\"SaveTool\",\"id\":\"p1077\"},{\"type\":\"object\",\"name\":\"ResetTool\",\"id\":\"p1078\"},{\"type\":\"object\",\"name\":\"HelpTool\",\"id\":\"p1079\"}]}},\"left\":[{\"type\":\"object\",\"name\":\"LinearAxis\",\"id\":\"p1062\",\"attributes\":{\"ticker\":{\"type\":\"object\",\"name\":\"BasicTicker\",\"id\":\"p1063\",\"attributes\":{\"mantissas\":[1,2,5]}},\"formatter\":{\"type\":\"object\",\"name\":\"BasicTickFormatter\",\"id\":\"p1064\"},\"major_label_policy\":{\"type\":\"object\",\"name\":\"AllLabels\",\"id\":\"p1065\"}}}],\"below\":[{\"type\":\"object\",\"name\":\"LinearAxis\",\"id\":\"p1057\",\"attributes\":{\"ticker\":{\"type\":\"object\",\"name\":\"BasicTicker\",\"id\":\"p1058\",\"attributes\":{\"mantissas\":[1,2,5]}},\"formatter\":{\"type\":\"object\",\"name\":\"BasicTickFormatter\",\"id\":\"p1059\"},\"major_label_policy\":{\"type\":\"object\",\"name\":\"AllLabels\",\"id\":\"p1060\"}}}],\"center\":[{\"type\":\"object\",\"name\":\"Grid\",\"id\":\"p1061\",\"attributes\":{\"axis\":{\"id\":\"p1057\"}}},{\"type\":\"object\",\"name\":\"Grid\",\"id\":\"p1066\",\"attributes\":{\"dimension\":1,\"axis\":{\"id\":\"p1062\"}}}]}}]}};\n  const render_items = [{\"docid\":\"01816c2b-771f-4a76-8593-bc01d20ed457\",\"roots\":{\"p1046\":\"fa7dc406-2e68-40b5-8525-d5bebc9120c5\"},\"root_ids\":[\"p1046\"]}];\n  void root.Bokeh.embed.embed_items_notebook(docs_json, render_items);\n  }\n  if (root.Bokeh !== undefined) {\n    embed_document(root);\n  } else {\n    let attempts = 0;\n    const timer = setInterval(function(root) {\n      if (root.Bokeh !== undefined) {\n        clearInterval(timer);\n        embed_document(root);\n      } else {\n        attempts++;\n        if (attempts > 100) {\n          clearInterval(timer);\n          console.log(\"Bokeh: ERROR: Unable to run BokehJS code because BokehJS library is missing\");\n        }\n      }\n    }, 10, root)\n  }\n})(window);",
      "application/vnd.bokehjs_exec.v0+json": ""
     },
     "metadata": {
      "application/vnd.bokehjs_exec.v0+json": {
       "id": "p1046"
      }
     },
     "output_type": "display_data"
    }
   ],
   "source": [
    "# Plot the fitted line\n",
    "fig = figure(height=400, width=400)\n",
    "fig.circle(df['applicant_income'], df['loan_amount'])\n",
    "fig.line(df['applicant_income'], y_pred, color='red')\n",
    "show(fig) "
   ]
  },
  {
   "cell_type": "markdown",
   "metadata": {},
   "source": [
    "The slope and intercept of a fitted line was found and then their predicted values were found which were used to plot the fitted line on the plot which seems to carry the relationship of the categorical variables."
   ]
  },
  {
   "cell_type": "code",
   "execution_count": 52,
   "metadata": {},
   "outputs": [
    {
     "data": {
      "text/html": [
       "<table class=\"simpletable\">\n",
       "<caption>OLS Regression Results</caption>\n",
       "<tr>\n",
       "  <th>Dep. Variable:</th>       <td>loan_amount</td>   <th>  R-squared:         </th> <td>   0.187</td> \n",
       "</tr>\n",
       "<tr>\n",
       "  <th>Model:</th>                   <td>OLS</td>       <th>  Adj. R-squared:    </th> <td>   0.187</td> \n",
       "</tr>\n",
       "<tr>\n",
       "  <th>Method:</th>             <td>Least Squares</td>  <th>  F-statistic:       </th> <td>   453.1</td> \n",
       "</tr>\n",
       "<tr>\n",
       "  <th>Date:</th>             <td>Sat, 17 Aug 2024</td> <th>  Prob (F-statistic):</th> <td>1.16e-90</td> \n",
       "</tr>\n",
       "<tr>\n",
       "  <th>Time:</th>                 <td>23:12:03</td>     <th>  Log-Likelihood:    </th> <td> -11237.</td> \n",
       "</tr>\n",
       "<tr>\n",
       "  <th>No. Observations:</th>      <td>  1969</td>      <th>  AIC:               </th> <td>2.248e+04</td>\n",
       "</tr>\n",
       "<tr>\n",
       "  <th>Df Residuals:</th>          <td>  1967</td>      <th>  BIC:               </th> <td>2.249e+04</td>\n",
       "</tr>\n",
       "<tr>\n",
       "  <th>Df Model:</th>              <td>     1</td>      <th>                     </th>     <td> </td>    \n",
       "</tr>\n",
       "<tr>\n",
       "  <th>Covariance Type:</th>      <td>nonrobust</td>    <th>                     </th>     <td> </td>    \n",
       "</tr>\n",
       "</table>\n",
       "<table class=\"simpletable\">\n",
       "<tr>\n",
       "          <td></td>            <th>coef</th>     <th>std err</th>      <th>t</th>      <th>P>|t|</th>  <th>[0.025</th>    <th>0.975]</th>  \n",
       "</tr>\n",
       "<tr>\n",
       "  <th>Intercept</th>        <td>  109.5533</td> <td>    2.289</td> <td>   47.857</td> <td> 0.000</td> <td>  105.064</td> <td>  114.043</td>\n",
       "</tr>\n",
       "<tr>\n",
       "  <th>applicant_income</th> <td>    0.3999</td> <td>    0.019</td> <td>   21.287</td> <td> 0.000</td> <td>    0.363</td> <td>    0.437</td>\n",
       "</tr>\n",
       "</table>\n",
       "<table class=\"simpletable\">\n",
       "<tr>\n",
       "  <th>Omnibus:</th>       <td>988.563</td> <th>  Durbin-Watson:     </th> <td>   2.069</td> \n",
       "</tr>\n",
       "<tr>\n",
       "  <th>Prob(Omnibus):</th> <td> 0.000</td>  <th>  Jarque-Bera (JB):  </th> <td>18486.530</td>\n",
       "</tr>\n",
       "<tr>\n",
       "  <th>Skew:</th>          <td> 1.914</td>  <th>  Prob(JB):          </th> <td>    0.00</td> \n",
       "</tr>\n",
       "<tr>\n",
       "  <th>Kurtosis:</th>      <td>17.515</td>  <th>  Cond. No.          </th> <td>    170.</td> \n",
       "</tr>\n",
       "</table><br/><br/>Notes:<br/>[1] Standard Errors assume that the covariance matrix of the errors is correctly specified."
      ],
      "text/plain": [
       "<class 'statsmodels.iolib.summary.Summary'>\n",
       "\"\"\"\n",
       "                            OLS Regression Results                            \n",
       "==============================================================================\n",
       "Dep. Variable:            loan_amount   R-squared:                       0.187\n",
       "Model:                            OLS   Adj. R-squared:                  0.187\n",
       "Method:                 Least Squares   F-statistic:                     453.1\n",
       "Date:                Sat, 17 Aug 2024   Prob (F-statistic):           1.16e-90\n",
       "Time:                        23:12:03   Log-Likelihood:                -11237.\n",
       "No. Observations:                1969   AIC:                         2.248e+04\n",
       "Df Residuals:                    1967   BIC:                         2.249e+04\n",
       "Df Model:                           1                                         \n",
       "Covariance Type:            nonrobust                                         \n",
       "====================================================================================\n",
       "                       coef    std err          t      P>|t|      [0.025      0.975]\n",
       "------------------------------------------------------------------------------------\n",
       "Intercept          109.5533      2.289     47.857      0.000     105.064     114.043\n",
       "applicant_income     0.3999      0.019     21.287      0.000       0.363       0.437\n",
       "==============================================================================\n",
       "Omnibus:                      988.563   Durbin-Watson:                   2.069\n",
       "Prob(Omnibus):                  0.000   Jarque-Bera (JB):            18486.530\n",
       "Skew:                           1.914   Prob(JB):                         0.00\n",
       "Kurtosis:                      17.515   Cond. No.                         170.\n",
       "==============================================================================\n",
       "\n",
       "Notes:\n",
       "[1] Standard Errors assume that the covariance matrix of the errors is correctly specified.\n",
       "\"\"\""
      ]
     },
     "execution_count": 52,
     "metadata": {},
     "output_type": "execute_result"
    }
   ],
   "source": [
    "# Access the model summary for interpretation\n",
    "model.summary()"
   ]
  },
  {
   "cell_type": "markdown",
   "metadata": {},
   "source": [
    "Coeffcient on the variables: The \"coef\" column shows the actual coefficients: 109.5533 for the intercept, and 0.3999 for the SAT variable. Thus, our model is described by the line: loan_amount= 109.5533 + 0.3999 ∗ applicant_income + e.\n",
    "\n",
    "\n",
    "\n",
    "Significance of the variables: The summary includes results of a t-test assessing if the estimated coeffients are significantly different from 0. Since they are not different from 0, it would mean that the variable has no effect on the dependent variable, and can be deleted from the model.\n",
    "\n",
    "\n",
    "\n",
    "Quality of the model: The R^2 and the adjusted R^2 values both are same and around 0.2(0.187). It means that there are many more factors that affect loan amount which our model did not take into account."
   ]
  },
  {
   "cell_type": "code",
   "execution_count": null,
   "metadata": {},
   "outputs": [],
   "source": []
  }
 ],
 "metadata": {
  "kernelspec": {
   "display_name": "Python 3",
   "language": "python",
   "name": "python3"
  },
  "language_info": {
   "codemirror_mode": {
    "name": "ipython",
    "version": 3
   },
   "file_extension": ".py",
   "mimetype": "text/x-python",
   "name": "python",
   "nbconvert_exporter": "python",
   "pygments_lexer": "ipython3",
   "version": "3.11.1"
  }
 },
 "nbformat": 4,
 "nbformat_minor": 2
}
